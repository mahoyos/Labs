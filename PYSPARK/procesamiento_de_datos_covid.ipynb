{
  "cells": [
    {
      "cell_type": "code",
      "execution_count": 1,
      "metadata": {
        "colab": {
          "base_uri": "https://localhost:8080/"
        },
        "id": "ngbKdoah0Wh8",
        "outputId": "e9850271-b02e-46a0-f58a-9922c60fbfa0"
      },
      "outputs": [
        {
          "name": "stdout",
          "output_type": "stream",
          "text": [
            "Mounted at /content/gdrive\n"
          ]
        }
      ],
      "source": [
        "from google.colab import drive\n",
        "drive.mount('/content/gdrive')"
      ]
    },
    {
      "cell_type": "code",
      "execution_count": 2,
      "metadata": {
        "id": "mYAIx15I3mdl"
      },
      "outputs": [],
      "source": [
        "#instalar java y spark\n",
        "!apt-get install openjdk-11-jdk-headless -qq > /dev/null\n",
        "!wget -q https://dlcdn.apache.org/spark/spark-3.5.3/spark-3.5.3-bin-hadoop3.tgz\n",
        "!tar xf spark-3.5.3-bin-hadoop3.tgz\n",
        "!pip install -q findspark"
      ]
    },
    {
      "cell_type": "code",
      "execution_count": 3,
      "metadata": {
        "id": "CQ7rjkEf3tqq"
      },
      "outputs": [],
      "source": [
        "\n",
        "!apt-get install openjdk-8-jdk-headless -qq > /dev/null\n",
        "!wget -q https://repo1.maven.org/maven2/org/apache/hadoop/hadoop-aws/3.2.0/hadoop-aws-3.2.0.jar\n",
        "!wget -q https://repo1.maven.org/maven2/com/amazonaws/aws-java-sdk-bundle/1.11.375/aws-java-sdk-bundle-1.11.375.jar"
      ]
    },
    {
      "cell_type": "code",
      "execution_count": 4,
      "metadata": {
        "id": "UZNKsvWp4BU3"
      },
      "outputs": [],
      "source": [
        "import os\n",
        "os.environ[\"JAVA_HOME\"] = \"/usr/lib/jvm/java-11-openjdk-amd64\"\n",
        "os.environ[\"SPARK_HOME\"] = \"/content/spark-3.5.3-bin-hadoop3\""
      ]
    },
    {
      "cell_type": "code",
      "execution_count": 5,
      "metadata": {
        "id": "le490UD14D9P"
      },
      "outputs": [],
      "source": [
        "import findspark\n",
        "findspark.init()\n",
        "from pyspark.sql import SparkSession\n",
        "spark = SparkSession.builder \\\n",
        "    .appName(\"data_processing\")\\\n",
        "    .master(\"local[*]\")\\\n",
        "    .config(\"spark.driver.memory\",\"16G\")\\\n",
        "    .config(\"spark.driver.maxResultSize\", \"0\") \\\n",
        "    .config(\"spark.kryoserializer.buffer.max\", \"2000M\")\\\n",
        "    .config(\"spark.jars.packages\", \"com.amazonaws:aws-java-sdk:1.11.1034,org.apache.hadoop:hadoop-aws:3.3.4\")\\\n",
        "    .config('fs.s3a.access.key', 'ACCES_KEY') \\\n",
        "    .config('fs.s3a.secret.key', 'SECRET_KEY') \\\n",
        "    .config('fs.s3a.session.token', 'SESSION_TOKEN') \\\n",
        "    .config('fs.s3a.path.style.access', 'true') \\\n",
        "    .config('fs.s3a.impl', 'org.apache.hadoop.fs.s3a.S3AFileSystem') \\\n",
        "    .config('fs.s3a.endpoint', 's3.amazonaws.com') \\\n",
        "    .getOrCreate()\n",
        "sc = spark.sparkContext"
      ]
    },
    {
      "cell_type": "code",
      "execution_count": 6,
      "metadata": {
        "colab": {
          "base_uri": "https://localhost:8080/",
          "height": 219
        },
        "id": "2Jc0nQfD5rMa",
        "outputId": "cd7dfb0b-350d-45f1-80e7-a60bf0d5466d"
      },
      "outputs": [
        {
          "data": {
            "text/html": [
              "\n",
              "            <div>\n",
              "                <p><b>SparkSession - in-memory</b></p>\n",
              "                \n",
              "        <div>\n",
              "            <p><b>SparkContext</b></p>\n",
              "\n",
              "            <p><a href=\"http://390cb39b7489:4040\">Spark UI</a></p>\n",
              "\n",
              "            <dl>\n",
              "              <dt>Version</dt>\n",
              "                <dd><code>v3.5.3</code></dd>\n",
              "              <dt>Master</dt>\n",
              "                <dd><code>local[*]</code></dd>\n",
              "              <dt>AppName</dt>\n",
              "                <dd><code>data_processing</code></dd>\n",
              "            </dl>\n",
              "        </div>\n",
              "        \n",
              "            </div>\n",
              "        "
            ],
            "text/plain": [
              "<pyspark.sql.session.SparkSession at 0x7b0929e52da0>"
            ]
          },
          "execution_count": 6,
          "metadata": {},
          "output_type": "execute_result"
        }
      ],
      "source": [
        "spark"
      ]
    },
    {
      "cell_type": "code",
      "execution_count": 7,
      "metadata": {
        "colab": {
          "base_uri": "https://localhost:8080/",
          "height": 196
        },
        "id": "7U2-EjBo5tc0",
        "outputId": "8e744cd4-743c-4f6f-9a7c-ecba95f4f9d2"
      },
      "outputs": [
        {
          "data": {
            "text/html": [
              "\n",
              "        <div>\n",
              "            <p><b>SparkContext</b></p>\n",
              "\n",
              "            <p><a href=\"http://390cb39b7489:4040\">Spark UI</a></p>\n",
              "\n",
              "            <dl>\n",
              "              <dt>Version</dt>\n",
              "                <dd><code>v3.5.3</code></dd>\n",
              "              <dt>Master</dt>\n",
              "                <dd><code>local[*]</code></dd>\n",
              "              <dt>AppName</dt>\n",
              "                <dd><code>data_processing</code></dd>\n",
              "            </dl>\n",
              "        </div>\n",
              "        "
            ],
            "text/plain": [
              "<SparkContext master=local[*] appName=data_processing>"
            ]
          },
          "execution_count": 7,
          "metadata": {},
          "output_type": "execute_result"
        }
      ],
      "source": [
        "sc"
      ]
    },
    {
      "cell_type": "code",
      "execution_count": 10,
      "metadata": {
        "id": "xDZxmIfT6Kdg"
      },
      "outputs": [],
      "source": [
        "df = spark.read.csv('/content/gdrive/MyDrive/content/gdrive/Casos_positivos_de_COVID-19_en_Colombia-100K.csv', inferSchema=True, header=True)\n"
      ]
    },
    {
      "cell_type": "code",
      "execution_count": 11,
      "metadata": {
        "colab": {
          "base_uri": "https://localhost:8080/"
        },
        "id": "jCCHtWUh6wmK",
        "outputId": "3cf257c6-b4b5-49b9-9eae-3baf7faeec9d"
      },
      "outputs": [
        {
          "data": {
            "text/plain": [
              "['fecha reporte web',\n",
              " 'ID de caso',\n",
              " 'Fecha de notificación',\n",
              " 'Código DIVIPOLA departamento',\n",
              " 'Nombre departamento',\n",
              " 'Código DIVIPOLA municipio',\n",
              " 'Nombre municipio',\n",
              " 'Edad',\n",
              " 'Unidad de medida de edad',\n",
              " 'Sexo',\n",
              " 'Tipo de contagio',\n",
              " 'Ubicación del caso',\n",
              " 'Estado',\n",
              " 'Código ISO del país',\n",
              " 'Nombre del país',\n",
              " 'Recuperado',\n",
              " 'Fecha de inicio de síntomas',\n",
              " 'Fecha de muerte',\n",
              " 'Fecha de diagnóstico',\n",
              " 'Fecha de recuperación',\n",
              " 'Tipo de recuperación',\n",
              " 'Pertenencia étnica',\n",
              " 'Nombre del grupo étnico']"
            ]
          },
          "execution_count": 11,
          "metadata": {},
          "output_type": "execute_result"
        }
      ],
      "source": [
        "df.columns\n"
      ]
    },
    {
      "cell_type": "code",
      "execution_count": 12,
      "metadata": {
        "colab": {
          "base_uri": "https://localhost:8080/"
        },
        "id": "odP2RdjI7ANn",
        "outputId": "c1b171ca-11d3-4b47-8801-60c5f992b64a"
      },
      "outputs": [
        {
          "data": {
            "text/plain": [
              "23"
            ]
          },
          "execution_count": 12,
          "metadata": {},
          "output_type": "execute_result"
        }
      ],
      "source": [
        "len(df.columns)\n"
      ]
    },
    {
      "cell_type": "code",
      "execution_count": 13,
      "metadata": {
        "colab": {
          "base_uri": "https://localhost:8080/"
        },
        "id": "dbZophCp7CiK",
        "outputId": "fb506aa5-6810-4977-c14a-a7b05a654a59"
      },
      "outputs": [
        {
          "data": {
            "text/plain": [
              "100000"
            ]
          },
          "execution_count": 13,
          "metadata": {},
          "output_type": "execute_result"
        }
      ],
      "source": [
        "df.count()\n"
      ]
    },
    {
      "cell_type": "code",
      "execution_count": 14,
      "metadata": {
        "colab": {
          "base_uri": "https://localhost:8080/"
        },
        "id": "duk-f37S7E-j",
        "outputId": "b2221b75-5fd2-436d-8d48-f3a66e4e4f0b"
      },
      "outputs": [
        {
          "name": "stdout",
          "output_type": "stream",
          "text": [
            "(100000, 23)\n"
          ]
        }
      ],
      "source": [
        "print((df.count(), len(df.columns)))\n"
      ]
    },
    {
      "cell_type": "code",
      "execution_count": 15,
      "metadata": {
        "colab": {
          "base_uri": "https://localhost:8080/"
        },
        "id": "Ju8hrKJr7HQp",
        "outputId": "f6b6e95b-5505-4f90-b169-ed6a864cfb8f"
      },
      "outputs": [
        {
          "name": "stdout",
          "output_type": "stream",
          "text": [
            "root\n",
            " |-- fecha reporte web: string (nullable = true)\n",
            " |-- ID de caso: integer (nullable = true)\n",
            " |-- Fecha de notificación: string (nullable = true)\n",
            " |-- Código DIVIPOLA departamento: integer (nullable = true)\n",
            " |-- Nombre departamento: string (nullable = true)\n",
            " |-- Código DIVIPOLA municipio: integer (nullable = true)\n",
            " |-- Nombre municipio: string (nullable = true)\n",
            " |-- Edad: integer (nullable = true)\n",
            " |-- Unidad de medida de edad: integer (nullable = true)\n",
            " |-- Sexo: string (nullable = true)\n",
            " |-- Tipo de contagio: string (nullable = true)\n",
            " |-- Ubicación del caso: string (nullable = true)\n",
            " |-- Estado: string (nullable = true)\n",
            " |-- Código ISO del país: integer (nullable = true)\n",
            " |-- Nombre del país: string (nullable = true)\n",
            " |-- Recuperado: string (nullable = true)\n",
            " |-- Fecha de inicio de síntomas: string (nullable = true)\n",
            " |-- Fecha de muerte: string (nullable = true)\n",
            " |-- Fecha de diagnóstico: string (nullable = true)\n",
            " |-- Fecha de recuperación: string (nullable = true)\n",
            " |-- Tipo de recuperación: string (nullable = true)\n",
            " |-- Pertenencia étnica: integer (nullable = true)\n",
            " |-- Nombre del grupo étnico: string (nullable = true)\n",
            "\n"
          ]
        }
      ],
      "source": [
        "df.printSchema()\n"
      ]
    },
    {
      "cell_type": "code",
      "execution_count": 16,
      "metadata": {
        "id": "ntEIWu8y7LvB"
      },
      "outputs": [],
      "source": [
        "df = df.withColumnRenamed(\"fecha reporte web\", \"fecha_reporte_web\") \\\n",
        "       .withColumnRenamed(\"ID de caso\", \"id_caso\") \\\n",
        "       .withColumnRenamed(\"Fecha de notificación\", \"fecha_notificacion\") \\\n",
        "       .withColumnRenamed(\"Código DIVIPOLA departamento\", \"codigo_divipola_departamento\") \\\n",
        "       .withColumnRenamed(\"Nombre departamento\", \"nombre_departamento\") \\\n",
        "       .withColumnRenamed(\"Código DIVIPOLA municipio\", \"codigo_divipola_municipio\") \\\n",
        "       .withColumnRenamed(\"Nombre municipio\", \"nombre_municipio\") \\\n",
        "       .withColumnRenamed(\"Edad\", \"edad\") \\\n",
        "       .withColumnRenamed(\"Unidad de medida de edad\", \"unidad_medida_edad\") \\\n",
        "       .withColumnRenamed(\"Sexo\", \"sexo\") \\\n",
        "       .withColumnRenamed(\"Tipo de contagio\", \"tipo_contagio\") \\\n",
        "       .withColumnRenamed(\"Ubicación del caso\", \"ubicacion_caso\") \\\n",
        "       .withColumnRenamed(\"Estado\", \"estado\") \\\n",
        "       .withColumnRenamed(\"Código ISO del país\", \"codigo_iso_pais\") \\\n",
        "       .withColumnRenamed(\"Nombre del país\", \"nombre_pais\") \\\n",
        "       .withColumnRenamed(\"Recuperado\", \"recuperado\") \\\n",
        "       .withColumnRenamed(\"Fecha de inicio de síntomas\", \"fecha_inicio_sintomas\") \\\n",
        "       .withColumnRenamed(\"Fecha de muerte\", \"fecha_muerte\") \\\n",
        "       .withColumnRenamed(\"Fecha de diagnóstico\", \"fecha_diagnostico\") \\\n",
        "       .withColumnRenamed(\"Fecha de recuperación\", \"fecha_recuperacion\") \\\n",
        "       .withColumnRenamed(\"Tipo de recuperación\", \"tipo_recuperacion\") \\\n",
        "       .withColumnRenamed(\"Pertenencia étnica\", \"pertenencia_etnica\") \\\n",
        "       .withColumnRenamed(\"Nombre del grupo étnico\", \"nombre_grupo_etnico\")"
      ]
    },
    {
      "cell_type": "code",
      "execution_count": 17,
      "metadata": {
        "colab": {
          "base_uri": "https://localhost:8080/"
        },
        "id": "k8qYFS3x7N4Y",
        "outputId": "50ca4b7c-65d1-459a-aa6f-bffce02b5e87"
      },
      "outputs": [
        {
          "name": "stdout",
          "output_type": "stream",
          "text": [
            "+-----------------+-------+------------------+----------------------------+-------------------+-------------------------+----------------+----+------------------+----+-------------+--------------+------+---------------+-----------+----------+---------------------+------------+-----------------+------------------+-----------------+------------------+-------------------+\n",
            "|fecha_reporte_web|id_caso|fecha_notificacion|codigo_divipola_departamento|nombre_departamento|codigo_divipola_municipio|nombre_municipio|edad|unidad_medida_edad|sexo|tipo_contagio|ubicacion_caso|estado|codigo_iso_pais|nombre_pais|recuperado|fecha_inicio_sintomas|fecha_muerte|fecha_diagnostico|fecha_recuperacion|tipo_recuperacion|pertenencia_etnica|nombre_grupo_etnico|\n",
            "+-----------------+-------+------------------+----------------------------+-------------------+-------------------------+----------------+----+------------------+----+-------------+--------------+------+---------------+-----------+----------+---------------------+------------+-----------------+------------------+-----------------+------------------+-------------------+\n",
            "| 6/3/2020 0:00:00|      1|  2/3/2020 0:00:00|                          11|             BOGOTA|                    11001|          BOGOTA|  19|                 1|   F|    Importado|          Casa|  Leve|            380|     ITALIA|Recuperado|    27/2/2020 0:00:00|        NULL| 6/3/2020 0:00:00| 13/3/2020 0:00:00|              PCR|                 6|               NULL|\n",
            "| 9/3/2020 0:00:00|      2|  6/3/2020 0:00:00|                          76|              VALLE|                    76111|            BUGA|  34|                 1|   M|    Importado|          Casa|  Leve|            724|     ESPAÑA|Recuperado|     4/3/2020 0:00:00|        NULL| 9/3/2020 0:00:00| 19/3/2020 0:00:00|              PCR|                 5|               NULL|\n",
            "| 9/3/2020 0:00:00|      3|  7/3/2020 0:00:00|                           5|          ANTIOQUIA|                     5001|        MEDELLIN|  50|                 1|   F|    Importado|          Casa|  Leve|            724|     ESPAÑA|Recuperado|    29/2/2020 0:00:00|        NULL| 9/3/2020 0:00:00| 15/3/2020 0:00:00|              PCR|                 6|               NULL|\n",
            "|11/3/2020 0:00:00|      4|  9/3/2020 0:00:00|                           5|          ANTIOQUIA|                     5001|        MEDELLIN|  55|                 1|   M|  Relacionado|          Casa|  Leve|           NULL|       NULL|Recuperado|     6/3/2020 0:00:00|        NULL|11/3/2020 0:00:00| 26/3/2020 0:00:00|              PCR|                 6|               NULL|\n",
            "|11/3/2020 0:00:00|      5|  9/3/2020 0:00:00|                           5|          ANTIOQUIA|                     5001|        MEDELLIN|  25|                 1|   M|  Relacionado|          Casa|  Leve|           NULL|       NULL|Recuperado|     8/3/2020 0:00:00|        NULL|11/3/2020 0:00:00| 23/3/2020 0:00:00|              PCR|                 6|               NULL|\n",
            "+-----------------+-------+------------------+----------------------------+-------------------+-------------------------+----------------+----+------------------+----+-------------+--------------+------+---------------+-----------+----------+---------------------+------------+-----------------+------------------+-----------------+------------------+-------------------+\n",
            "only showing top 5 rows\n",
            "\n"
          ]
        }
      ],
      "source": [
        "df.show(5)\n"
      ]
    },
    {
      "cell_type": "code",
      "execution_count": 18,
      "metadata": {
        "colab": {
          "base_uri": "https://localhost:8080/"
        },
        "id": "9auYKEnL7REj",
        "outputId": "d1b269f1-feeb-4998-8480-b0a127527181"
      },
      "outputs": [
        {
          "name": "stdout",
          "output_type": "stream",
          "text": [
            "+----+----+\n",
            "|edad|sexo|\n",
            "+----+----+\n",
            "|  19|   F|\n",
            "|  34|   M|\n",
            "|  50|   F|\n",
            "|  55|   M|\n",
            "|  25|   M|\n",
            "+----+----+\n",
            "only showing top 5 rows\n",
            "\n"
          ]
        }
      ],
      "source": [
        "df.select('edad', 'sexo').show(5)\n"
      ]
    },
    {
      "cell_type": "code",
      "execution_count": 19,
      "metadata": {
        "colab": {
          "base_uri": "https://localhost:8080/"
        },
        "id": "wo4TEm8D7ThV",
        "outputId": "f6aa3f98-72f6-4610-fd6a-cd0a21fca223"
      },
      "outputs": [
        {
          "name": "stdout",
          "output_type": "stream",
          "text": [
            "+-------+-----------------+------------------+------------------+----------------------------+-------------------+-------------------------+----------------+------------------+-------------------+------+-------------+--------------+---------+------------------+-----------+----------+---------------------+----------------+-----------------+------------------+-----------------+------------------+-------------------+\n",
            "|summary|fecha_reporte_web|           id_caso|fecha_notificacion|codigo_divipola_departamento|nombre_departamento|codigo_divipola_municipio|nombre_municipio|              edad| unidad_medida_edad|  sexo|tipo_contagio|ubicacion_caso|   estado|   codigo_iso_pais|nombre_pais|recuperado|fecha_inicio_sintomas|    fecha_muerte|fecha_diagnostico|fecha_recuperacion|tipo_recuperacion|pertenencia_etnica|nombre_grupo_etnico|\n",
            "+-------+-----------------+------------------+------------------+----------------------------+-------------------+-------------------------+----------------+------------------+-------------------+------+-------------+--------------+---------+------------------+-----------+----------+---------------------+----------------+-----------------+------------------+-----------------+------------------+-------------------+\n",
            "|  count|           100000|            100000|            100000|                      100000|             100000|                   100000|          100000|            100000|             100000|100000|       100000|        100000|   100000|               912|        912|    100000|                91615|            5633|            97693|             94832|            94832|            100000|               5658|\n",
            "|   mean|             NULL|       50038.74855|              NULL|                   2631.6288|               NULL|              25327.34487|            NULL|          39.30175|            1.00637|  NULL|         NULL|          NULL|     NULL| 596.3475877192982|       NULL|      NULL|                 NULL|            NULL|             NULL|              NULL|             NULL|           5.57693|               NULL|\n",
            "| stddev|             NULL|28870.559312724497|              NULL|           6172.660309006438|               NULL|       25830.580807180544|            NULL|18.420127848324004|0.08893538213232118|  NULL|         NULL|          NULL|     NULL|255.56508665655983|       NULL|      NULL|                 NULL|            NULL|             NULL|              NULL|             NULL| 1.182825331930982|               NULL|\n",
            "|    min| 1/4/2020 0:00:00|                 1|  1/4/2020 0:00:00|                           5|           AMAZONAS|                     5001|          ABREGO|                 1|                  1|     F|  Comunitaria|          Casa|Fallecido|                32|   ALEMANIA| Fallecido|     1/3/2020 0:00:00|1/1/2021 0:00:00| 1/4/2020 0:00:00|  1/1/2021 0:00:00|              PCR|                 1|             AMBALO|\n",
            "|    max| 9/6/2020 0:00:00|            100040|  9/7/2020 0:00:00|                       47001|            VICHADA|                    99001| puerto COLOMBIA|               104|                  3|     M|  Relacionado|           N/A|      N/A|               862|  VENEZUELA| fallecido|     9/7/2020 0:00:00|9/9/2020 0:00:00| 9/9/2020 0:00:00|  9/8/2020 0:00:00|           Tiempo|                 6|               ZENU|\n",
            "+-------+-----------------+------------------+------------------+----------------------------+-------------------+-------------------------+----------------+------------------+-------------------+------+-------------+--------------+---------+------------------+-----------+----------+---------------------+----------------+-----------------+------------------+-----------------+------------------+-------------------+\n",
            "\n"
          ]
        }
      ],
      "source": [
        "df.describe().show()\n"
      ]
    },
    {
      "cell_type": "code",
      "execution_count": 20,
      "metadata": {
        "colab": {
          "base_uri": "https://localhost:8080/"
        },
        "id": "IS66kZ1Q8A1s",
        "outputId": "3872981b-cd4f-4524-8705-047225fca8b0"
      },
      "outputs": [
        {
          "name": "stdout",
          "output_type": "stream",
          "text": [
            "+-----------------+-------+------------------+----------------------------+-------------------+-------------------------+----------------+----+------------------+----+-------------+--------------+------+---------------+--------------------+----------+---------------------+------------+-----------------+------------------+-----------------+------------------+-------------------+----------+\n",
            "|fecha_reporte_web|id_caso|fecha_notificacion|codigo_divipola_departamento|nombre_departamento|codigo_divipola_municipio|nombre_municipio|edad|unidad_medida_edad|sexo|tipo_contagio|ubicacion_caso|estado|codigo_iso_pais|         nombre_pais|recuperado|fecha_inicio_sintomas|fecha_muerte|fecha_diagnostico|fecha_recuperacion|tipo_recuperacion|pertenencia_etnica|nombre_grupo_etnico|es_español|\n",
            "+-----------------+-------+------------------+----------------------------+-------------------+-------------------------+----------------+----+------------------+----+-------------+--------------+------+---------------+--------------------+----------+---------------------+------------+-----------------+------------------+-----------------+------------------+-------------------+----------+\n",
            "| 6/3/2020 0:00:00|      1|  2/3/2020 0:00:00|                          11|             BOGOTA|                    11001|          BOGOTA|  19|                 1|   F|    Importado|          Casa|  Leve|            380|              ITALIA|Recuperado|    27/2/2020 0:00:00|        NULL| 6/3/2020 0:00:00| 13/3/2020 0:00:00|              PCR|                 6|               NULL|     false|\n",
            "| 9/3/2020 0:00:00|      2|  6/3/2020 0:00:00|                          76|              VALLE|                    76111|            BUGA|  34|                 1|   M|    Importado|          Casa|  Leve|            724|              ESPAÑA|Recuperado|     4/3/2020 0:00:00|        NULL| 9/3/2020 0:00:00| 19/3/2020 0:00:00|              PCR|                 5|               NULL|      true|\n",
            "| 9/3/2020 0:00:00|      3|  7/3/2020 0:00:00|                           5|          ANTIOQUIA|                     5001|        MEDELLIN|  50|                 1|   F|    Importado|          Casa|  Leve|            724|              ESPAÑA|Recuperado|    29/2/2020 0:00:00|        NULL| 9/3/2020 0:00:00| 15/3/2020 0:00:00|              PCR|                 6|               NULL|      true|\n",
            "|11/3/2020 0:00:00|      4|  9/3/2020 0:00:00|                           5|          ANTIOQUIA|                     5001|        MEDELLIN|  55|                 1|   M|  Relacionado|          Casa|  Leve|           NULL|                NULL|Recuperado|     6/3/2020 0:00:00|        NULL|11/3/2020 0:00:00| 26/3/2020 0:00:00|              PCR|                 6|               NULL|     false|\n",
            "|11/3/2020 0:00:00|      5|  9/3/2020 0:00:00|                           5|          ANTIOQUIA|                     5001|        MEDELLIN|  25|                 1|   M|  Relacionado|          Casa|  Leve|           NULL|                NULL|Recuperado|     8/3/2020 0:00:00|        NULL|11/3/2020 0:00:00| 23/3/2020 0:00:00|              PCR|                 6|               NULL|     false|\n",
            "|11/3/2020 0:00:00|      6| 10/3/2020 0:00:00|                           5|          ANTIOQUIA|                     5360|          ITAGUI|  27|                 1|   F|  Relacionado|          Casa|  Leve|           NULL|                NULL|Recuperado|     6/3/2020 0:00:00|        NULL|11/3/2020 0:00:00| 26/3/2020 0:00:00|              PCR|                 6|               NULL|     false|\n",
            "|11/3/2020 0:00:00|      7|  8/3/2020 0:00:00|                       13001|          CARTAGENA|                    13001|       CARTAGENA|  85|                 1|   F|    Importado|          Casa|  Leve|            840|ESTADOS UNIDOS DE...|Recuperado|     2/3/2020 0:00:00|        NULL|11/3/2020 0:00:00| 17/3/2020 0:00:00|              PCR|                 6|               NULL|     false|\n",
            "|11/3/2020 0:00:00|      8|  9/3/2020 0:00:00|                          11|             BOGOTA|                    11001|          BOGOTA|  22|                 1|   F|    Importado|          Casa|  Leve|            724|              ESPAÑA|Recuperado|     6/3/2020 0:00:00|        NULL|11/3/2020 0:00:00| 21/3/2020 0:00:00|              PCR|                 6|               NULL|      true|\n",
            "|11/3/2020 0:00:00|      9|  8/3/2020 0:00:00|                          11|             BOGOTA|                    11001|          BOGOTA|  28|                 1|   F|    Importado|          Casa|  Leve|            724|              ESPAÑA|Recuperado|     7/3/2020 0:00:00|        NULL|11/3/2020 0:00:00| 23/3/2020 0:00:00|              PCR|                 6|               NULL|      true|\n",
            "|12/3/2020 0:00:00|     10| 12/3/2020 0:00:00|                          11|             BOGOTA|                    11001|          BOGOTA|  36|                 1|   F|    Importado|          Casa|  Leve|            724|              ESPAÑA|Recuperado|     6/3/2020 0:00:00|        NULL|12/3/2020 0:00:00| 21/3/2020 0:00:00|              PCR|                 6|               NULL|      true|\n",
            "|12/3/2020 0:00:00|     11| 11/3/2020 0:00:00|                          11|             BOGOTA|                    11001|          BOGOTA|  42|                 1|   F|    Importado|          Casa|  Leve|            724|              ESPAÑA|Recuperado|     6/3/2020 0:00:00|        NULL|12/3/2020 0:00:00| 31/3/2020 0:00:00|              PCR|                 6|               NULL|      true|\n",
            "|12/3/2020 0:00:00|     12| 10/3/2020 0:00:00|                          41|              HUILA|                    41001|           NEIVA|  74|                 1|   F|    Importado|          Casa|  Leve|            380|              ITALIA|Recuperado|     6/3/2020 0:00:00|        NULL|12/3/2020 0:00:00|  9/4/2020 0:00:00|              PCR|                 6|               NULL|     false|\n",
            "|12/3/2020 0:00:00|     13| 10/3/2020 0:00:00|                          41|              HUILA|                    41001|           NEIVA|  68|                 1|   F|  Relacionado|          Casa|  Leve|           NULL|                NULL|Recuperado|     6/3/2020 0:00:00|        NULL|12/3/2020 0:00:00| 30/3/2020 0:00:00|              PCR|                 6|               NULL|     false|\n",
            "|13/3/2020 0:00:00|     14| 10/3/2020 0:00:00|                          76|              VALLE|                    76520|         PALMIRA|  48|                 1|   M|    Importado|          Casa|  Leve|            724|              ESPAÑA|Recuperado|     7/3/2020 0:00:00|        NULL|13/3/2020 0:00:00| 21/3/2020 0:00:00|              PCR|                 5|               NULL|      true|\n",
            "|13/3/2020 0:00:00|     15| 13/3/2020 0:00:00|                          50|               META|                    50001|   VILLAVICENCIO|  30|                 1|   F|    Importado|          Casa|  Leve|            724|              ESPAÑA|Recuperado|     9/3/2020 0:00:00|        NULL|13/3/2020 0:00:00| 23/3/2020 0:00:00|              PCR|                 6|               NULL|      true|\n",
            "|13/3/2020 0:00:00|     16| 11/3/2020 0:00:00|                          11|             BOGOTA|                    11001|          BOGOTA|  61|                 1|   F|    Importado|          Casa|  Leve|            380|              ITALIA|Recuperado|     8/3/2020 0:00:00|        NULL|13/3/2020 0:00:00| 23/3/2020 0:00:00|              PCR|                 5|               NULL|     false|\n",
            "|14/3/2020 0:00:00|     17| 11/3/2020 0:00:00|                          11|             BOGOTA|                    11001|          BOGOTA|  73|                 1|   F|    Importado|          Casa|  Leve|            724|              ESPAÑA|Recuperado|    28/2/2020 0:00:00|        NULL|14/3/2020 0:00:00| 14/3/2020 0:00:00|              PCR|                 6|               NULL|      true|\n",
            "|14/3/2020 0:00:00|     18| 11/3/2020 0:00:00|                          11|             BOGOTA|                    11001|          BOGOTA|  54|                 1|   M|    Importado|          Casa|  Leve|            724|              ESPAÑA|Recuperado|     7/3/2020 0:00:00|        NULL|14/3/2020 0:00:00|  7/4/2020 0:00:00|           Tiempo|                 6|               NULL|      true|\n",
            "|14/3/2020 0:00:00|     19| 12/3/2020 0:00:00|                          11|             BOGOTA|                    11001|          BOGOTA|  54|                 1|   F|  Relacionado|          Casa|  Leve|           NULL|                NULL|Recuperado|     9/3/2020 0:00:00|        NULL|14/3/2020 0:00:00| 24/3/2020 0:00:00|              PCR|                 6|               NULL|     false|\n",
            "|14/3/2020 0:00:00|     20| 11/3/2020 0:00:00|                           5|          ANTIOQUIA|                     5001|        MEDELLIN|  26|                 1|   F|  Relacionado|          Casa|  Leve|           NULL|                NULL|Recuperado|     9/3/2020 0:00:00|        NULL|14/3/2020 0:00:00| 24/3/2020 0:00:00|              PCR|                 6|               NULL|     false|\n",
            "+-----------------+-------+------------------+----------------------------+-------------------+-------------------------+----------------+----+------------------+----+-------------+--------------+------+---------------+--------------------+----------+---------------------+------------+-----------------+------------------+-----------------+------------------+-------------------+----------+\n",
            "only showing top 20 rows\n",
            "\n"
          ]
        }
      ],
      "source": [
        "from pyspark.sql.functions import when\n",
        "df = df.withColumn(\"es_español\", when(df[\"nombre_pais\"] == \"ESPAÑA\", True).otherwise(False))\n",
        "df.show()"
      ]
    },
    {
      "cell_type": "code",
      "execution_count": 21,
      "metadata": {
        "colab": {
          "base_uri": "https://localhost:8080/"
        },
        "id": "vyCogbIr8Gw_",
        "outputId": "25ac71dc-0e59-4367-b033-a34589ccae3b"
      },
      "outputs": [
        {
          "name": "stdout",
          "output_type": "stream",
          "text": [
            "+-----------------+-------+------------------+----------------------------+-------------------+-------------------------+----------------+----+------------------+----+-------------+--------------+------+---------------+--------------------+----------+---------------------+------------+-----------------+------------------+-----------------+------------------+-------------------+\n",
            "|fecha_reporte_web|id_caso|fecha_notificacion|codigo_divipola_departamento|nombre_departamento|codigo_divipola_municipio|nombre_municipio|edad|unidad_medida_edad|sexo|tipo_contagio|ubicacion_caso|estado|codigo_iso_pais|         nombre_pais|recuperado|fecha_inicio_sintomas|fecha_muerte|fecha_diagnostico|fecha_recuperacion|tipo_recuperacion|pertenencia_etnica|nombre_grupo_etnico|\n",
            "+-----------------+-------+------------------+----------------------------+-------------------+-------------------------+----------------+----+------------------+----+-------------+--------------+------+---------------+--------------------+----------+---------------------+------------+-----------------+------------------+-----------------+------------------+-------------------+\n",
            "| 6/3/2020 0:00:00|      1|  2/3/2020 0:00:00|                          11|             BOGOTA|                    11001|          BOGOTA|  19|                 1|   F|    Importado|          Casa|  Leve|            380|              ITALIA|Recuperado|    27/2/2020 0:00:00|        NULL| 6/3/2020 0:00:00| 13/3/2020 0:00:00|              PCR|                 6|               NULL|\n",
            "| 9/3/2020 0:00:00|      2|  6/3/2020 0:00:00|                          76|              VALLE|                    76111|            BUGA|  34|                 1|   M|    Importado|          Casa|  Leve|            724|              ESPAÑA|Recuperado|     4/3/2020 0:00:00|        NULL| 9/3/2020 0:00:00| 19/3/2020 0:00:00|              PCR|                 5|               NULL|\n",
            "| 9/3/2020 0:00:00|      3|  7/3/2020 0:00:00|                           5|          ANTIOQUIA|                     5001|        MEDELLIN|  50|                 1|   F|    Importado|          Casa|  Leve|            724|              ESPAÑA|Recuperado|    29/2/2020 0:00:00|        NULL| 9/3/2020 0:00:00| 15/3/2020 0:00:00|              PCR|                 6|               NULL|\n",
            "|11/3/2020 0:00:00|      4|  9/3/2020 0:00:00|                           5|          ANTIOQUIA|                     5001|        MEDELLIN|  55|                 1|   M|  Relacionado|          Casa|  Leve|           NULL|                NULL|Recuperado|     6/3/2020 0:00:00|        NULL|11/3/2020 0:00:00| 26/3/2020 0:00:00|              PCR|                 6|               NULL|\n",
            "|11/3/2020 0:00:00|      5|  9/3/2020 0:00:00|                           5|          ANTIOQUIA|                     5001|        MEDELLIN|  25|                 1|   M|  Relacionado|          Casa|  Leve|           NULL|                NULL|Recuperado|     8/3/2020 0:00:00|        NULL|11/3/2020 0:00:00| 23/3/2020 0:00:00|              PCR|                 6|               NULL|\n",
            "|11/3/2020 0:00:00|      6| 10/3/2020 0:00:00|                           5|          ANTIOQUIA|                     5360|          ITAGUI|  27|                 1|   F|  Relacionado|          Casa|  Leve|           NULL|                NULL|Recuperado|     6/3/2020 0:00:00|        NULL|11/3/2020 0:00:00| 26/3/2020 0:00:00|              PCR|                 6|               NULL|\n",
            "|11/3/2020 0:00:00|      7|  8/3/2020 0:00:00|                       13001|          CARTAGENA|                    13001|       CARTAGENA|  85|                 1|   F|    Importado|          Casa|  Leve|            840|ESTADOS UNIDOS DE...|Recuperado|     2/3/2020 0:00:00|        NULL|11/3/2020 0:00:00| 17/3/2020 0:00:00|              PCR|                 6|               NULL|\n",
            "|11/3/2020 0:00:00|      8|  9/3/2020 0:00:00|                          11|             BOGOTA|                    11001|          BOGOTA|  22|                 1|   F|    Importado|          Casa|  Leve|            724|              ESPAÑA|Recuperado|     6/3/2020 0:00:00|        NULL|11/3/2020 0:00:00| 21/3/2020 0:00:00|              PCR|                 6|               NULL|\n",
            "|11/3/2020 0:00:00|      9|  8/3/2020 0:00:00|                          11|             BOGOTA|                    11001|          BOGOTA|  28|                 1|   F|    Importado|          Casa|  Leve|            724|              ESPAÑA|Recuperado|     7/3/2020 0:00:00|        NULL|11/3/2020 0:00:00| 23/3/2020 0:00:00|              PCR|                 6|               NULL|\n",
            "|12/3/2020 0:00:00|     10| 12/3/2020 0:00:00|                          11|             BOGOTA|                    11001|          BOGOTA|  36|                 1|   F|    Importado|          Casa|  Leve|            724|              ESPAÑA|Recuperado|     6/3/2020 0:00:00|        NULL|12/3/2020 0:00:00| 21/3/2020 0:00:00|              PCR|                 6|               NULL|\n",
            "|12/3/2020 0:00:00|     11| 11/3/2020 0:00:00|                          11|             BOGOTA|                    11001|          BOGOTA|  42|                 1|   F|    Importado|          Casa|  Leve|            724|              ESPAÑA|Recuperado|     6/3/2020 0:00:00|        NULL|12/3/2020 0:00:00| 31/3/2020 0:00:00|              PCR|                 6|               NULL|\n",
            "|12/3/2020 0:00:00|     12| 10/3/2020 0:00:00|                          41|              HUILA|                    41001|           NEIVA|  74|                 1|   F|    Importado|          Casa|  Leve|            380|              ITALIA|Recuperado|     6/3/2020 0:00:00|        NULL|12/3/2020 0:00:00|  9/4/2020 0:00:00|              PCR|                 6|               NULL|\n",
            "|12/3/2020 0:00:00|     13| 10/3/2020 0:00:00|                          41|              HUILA|                    41001|           NEIVA|  68|                 1|   F|  Relacionado|          Casa|  Leve|           NULL|                NULL|Recuperado|     6/3/2020 0:00:00|        NULL|12/3/2020 0:00:00| 30/3/2020 0:00:00|              PCR|                 6|               NULL|\n",
            "|13/3/2020 0:00:00|     14| 10/3/2020 0:00:00|                          76|              VALLE|                    76520|         PALMIRA|  48|                 1|   M|    Importado|          Casa|  Leve|            724|              ESPAÑA|Recuperado|     7/3/2020 0:00:00|        NULL|13/3/2020 0:00:00| 21/3/2020 0:00:00|              PCR|                 5|               NULL|\n",
            "|13/3/2020 0:00:00|     15| 13/3/2020 0:00:00|                          50|               META|                    50001|   VILLAVICENCIO|  30|                 1|   F|    Importado|          Casa|  Leve|            724|              ESPAÑA|Recuperado|     9/3/2020 0:00:00|        NULL|13/3/2020 0:00:00| 23/3/2020 0:00:00|              PCR|                 6|               NULL|\n",
            "|13/3/2020 0:00:00|     16| 11/3/2020 0:00:00|                          11|             BOGOTA|                    11001|          BOGOTA|  61|                 1|   F|    Importado|          Casa|  Leve|            380|              ITALIA|Recuperado|     8/3/2020 0:00:00|        NULL|13/3/2020 0:00:00| 23/3/2020 0:00:00|              PCR|                 5|               NULL|\n",
            "|14/3/2020 0:00:00|     17| 11/3/2020 0:00:00|                          11|             BOGOTA|                    11001|          BOGOTA|  73|                 1|   F|    Importado|          Casa|  Leve|            724|              ESPAÑA|Recuperado|    28/2/2020 0:00:00|        NULL|14/3/2020 0:00:00| 14/3/2020 0:00:00|              PCR|                 6|               NULL|\n",
            "|14/3/2020 0:00:00|     18| 11/3/2020 0:00:00|                          11|             BOGOTA|                    11001|          BOGOTA|  54|                 1|   M|    Importado|          Casa|  Leve|            724|              ESPAÑA|Recuperado|     7/3/2020 0:00:00|        NULL|14/3/2020 0:00:00|  7/4/2020 0:00:00|           Tiempo|                 6|               NULL|\n",
            "|14/3/2020 0:00:00|     19| 12/3/2020 0:00:00|                          11|             BOGOTA|                    11001|          BOGOTA|  54|                 1|   F|  Relacionado|          Casa|  Leve|           NULL|                NULL|Recuperado|     9/3/2020 0:00:00|        NULL|14/3/2020 0:00:00| 24/3/2020 0:00:00|              PCR|                 6|               NULL|\n",
            "|14/3/2020 0:00:00|     20| 11/3/2020 0:00:00|                           5|          ANTIOQUIA|                     5001|        MEDELLIN|  26|                 1|   F|  Relacionado|          Casa|  Leve|           NULL|                NULL|Recuperado|     9/3/2020 0:00:00|        NULL|14/3/2020 0:00:00| 24/3/2020 0:00:00|              PCR|                 6|               NULL|\n",
            "+-----------------+-------+------------------+----------------------------+-------------------+-------------------------+----------------+----+------------------+----+-------------+--------------+------+---------------+--------------------+----------+---------------------+------------+-----------------+------------------+-----------------+------------------+-------------------+\n",
            "only showing top 20 rows\n",
            "\n"
          ]
        }
      ],
      "source": [
        "df = df.drop(\"es_español\")\n",
        "df.show()"
      ]
    },
    {
      "cell_type": "code",
      "execution_count": 22,
      "metadata": {
        "colab": {
          "base_uri": "https://localhost:8080/"
        },
        "id": "1XidonmA8LHm",
        "outputId": "8cc0eeff-8553-4fdf-be66-4143e8183068"
      },
      "outputs": [
        {
          "name": "stdout",
          "output_type": "stream",
          "text": [
            "+-----------------+-------+------------------+----------------------------+-------------------+-------------------------+----------------+----+------------------+----+-------------+--------------+------+---------------+--------------------+----------+---------------------+------------+-----------------+------------------+-----------------+------------------+-------------------+\n",
            "|fecha_reporte_web|id_caso|fecha_notificacion|codigo_divipola_departamento|nombre_departamento|codigo_divipola_municipio|nombre_municipio|edad|unidad_medida_edad|sexo|tipo_contagio|ubicacion_caso|estado|codigo_iso_pais|         nombre_pais|recuperado|fecha_inicio_sintomas|fecha_muerte|fecha_diagnostico|fecha_recuperacion|tipo_recuperacion|pertenencia_etnica|nombre_grupo_etnico|\n",
            "+-----------------+-------+------------------+----------------------------+-------------------+-------------------------+----------------+----+------------------+----+-------------+--------------+------+---------------+--------------------+----------+---------------------+------------+-----------------+------------------+-----------------+------------------+-------------------+\n",
            "| 6/3/2020 0:00:00|      1|  2/3/2020 0:00:00|                          11|             BOGOTA|                    11001|          BOGOTA|  19|                 1|   F|    Importado|          Casa|  Leve|            380|              ITALIA|Recuperado|    27/2/2020 0:00:00|        NULL| 6/3/2020 0:00:00| 13/3/2020 0:00:00|              PCR|                 6|               NULL|\n",
            "|11/3/2020 0:00:00|      8|  9/3/2020 0:00:00|                          11|             BOGOTA|                    11001|          BOGOTA|  22|                 1|   F|    Importado|          Casa|  Leve|            724|              ESPAÑA|Recuperado|     6/3/2020 0:00:00|        NULL|11/3/2020 0:00:00| 21/3/2020 0:00:00|              PCR|                 6|               NULL|\n",
            "|11/3/2020 0:00:00|      9|  8/3/2020 0:00:00|                          11|             BOGOTA|                    11001|          BOGOTA|  28|                 1|   F|    Importado|          Casa|  Leve|            724|              ESPAÑA|Recuperado|     7/3/2020 0:00:00|        NULL|11/3/2020 0:00:00| 23/3/2020 0:00:00|              PCR|                 6|               NULL|\n",
            "|12/3/2020 0:00:00|     10| 12/3/2020 0:00:00|                          11|             BOGOTA|                    11001|          BOGOTA|  36|                 1|   F|    Importado|          Casa|  Leve|            724|              ESPAÑA|Recuperado|     6/3/2020 0:00:00|        NULL|12/3/2020 0:00:00| 21/3/2020 0:00:00|              PCR|                 6|               NULL|\n",
            "|12/3/2020 0:00:00|     11| 11/3/2020 0:00:00|                          11|             BOGOTA|                    11001|          BOGOTA|  42|                 1|   F|    Importado|          Casa|  Leve|            724|              ESPAÑA|Recuperado|     6/3/2020 0:00:00|        NULL|12/3/2020 0:00:00| 31/3/2020 0:00:00|              PCR|                 6|               NULL|\n",
            "|13/3/2020 0:00:00|     16| 11/3/2020 0:00:00|                          11|             BOGOTA|                    11001|          BOGOTA|  61|                 1|   F|    Importado|          Casa|  Leve|            380|              ITALIA|Recuperado|     8/3/2020 0:00:00|        NULL|13/3/2020 0:00:00| 23/3/2020 0:00:00|              PCR|                 5|               NULL|\n",
            "|14/3/2020 0:00:00|     17| 11/3/2020 0:00:00|                          11|             BOGOTA|                    11001|          BOGOTA|  73|                 1|   F|    Importado|          Casa|  Leve|            724|              ESPAÑA|Recuperado|    28/2/2020 0:00:00|        NULL|14/3/2020 0:00:00| 14/3/2020 0:00:00|              PCR|                 6|               NULL|\n",
            "|14/3/2020 0:00:00|     18| 11/3/2020 0:00:00|                          11|             BOGOTA|                    11001|          BOGOTA|  54|                 1|   M|    Importado|          Casa|  Leve|            724|              ESPAÑA|Recuperado|     7/3/2020 0:00:00|        NULL|14/3/2020 0:00:00|  7/4/2020 0:00:00|           Tiempo|                 6|               NULL|\n",
            "|14/3/2020 0:00:00|     19| 12/3/2020 0:00:00|                          11|             BOGOTA|                    11001|          BOGOTA|  54|                 1|   F|  Relacionado|          Casa|  Leve|           NULL|                NULL|Recuperado|     9/3/2020 0:00:00|        NULL|14/3/2020 0:00:00| 24/3/2020 0:00:00|              PCR|                 6|               NULL|\n",
            "|14/3/2020 0:00:00|     23| 12/3/2020 0:00:00|                          11|             BOGOTA|                    11001|          BOGOTA|  23|                 1|   M|  Relacionado|          Casa|  Leve|           NULL|                NULL|Recuperado|     8/3/2020 0:00:00|        NULL|14/3/2020 0:00:00| 23/3/2020 0:00:00|              PCR|                 6|               NULL|\n",
            "|14/3/2020 0:00:00|     24| 12/3/2020 0:00:00|                          11|             BOGOTA|                    11001|          BOGOTA|  18|                 1|   F|    Importado|          Casa|  Leve|            724|              ESPAÑA|Recuperado|    12/3/2020 0:00:00|        NULL|14/3/2020 0:00:00| 27/3/2020 0:00:00|              PCR|                 6|               NULL|\n",
            "|15/3/2020 0:00:00|     33| 13/3/2020 0:00:00|                          11|             BOGOTA|                    11001|          BOGOTA|  59|                 1|   M|    Importado|          Casa|  Leve|            724|              ESPAÑA|Recuperado|    12/3/2020 0:00:00|        NULL|15/3/2020 0:00:00| 21/4/2020 0:00:00|              PCR|                 6|               NULL|\n",
            "|15/3/2020 0:00:00|     34| 13/3/2020 0:00:00|                          11|             BOGOTA|                    11001|          BOGOTA|  23|                 1|   F|    Importado|          Casa|  Leve|            724|              ESPAÑA|Recuperado|    11/3/2020 0:00:00|        NULL|15/3/2020 0:00:00| 26/3/2020 0:00:00|              PCR|                 6|               NULL|\n",
            "|14/3/2020 0:00:00|     35| 12/3/2020 0:00:00|                          11|             BOGOTA|                    11001|          BOGOTA|  54|                 1|   M|    Importado|          Casa|  Leve|            724|              ESPAÑA|Recuperado|    11/3/2020 0:00:00|        NULL|14/3/2020 0:00:00| 26/3/2020 0:00:00|              PCR|                 6|               NULL|\n",
            "|14/3/2020 0:00:00|     36| 13/3/2020 0:00:00|                          11|             BOGOTA|                    11001|          BOGOTA|  72|                 1|   M|    Importado|          Casa|  Leve|            840|ESTADOS UNIDOS DE...|Recuperado|    12/3/2020 0:00:00|        NULL|14/3/2020 0:00:00| 27/3/2020 0:00:00|              PCR|                 6|               NULL|\n",
            "|14/3/2020 0:00:00|     37| 13/3/2020 0:00:00|                          11|             BOGOTA|                    11001|          BOGOTA|  45|                 1|   F|  Relacionado|          Casa|  Leve|           NULL|                NULL|Recuperado|    12/3/2020 0:00:00|        NULL|14/3/2020 0:00:00| 27/3/2020 0:00:00|              PCR|                 6|               NULL|\n",
            "|14/3/2020 0:00:00|     38| 14/3/2020 0:00:00|                          11|             BOGOTA|                    11001|          BOGOTA|  29|                 1|   M|    Importado|          Casa|  Leve|            724|              ESPAÑA|Recuperado|    13/3/2020 0:00:00|        NULL|14/3/2020 0:00:00| 28/3/2020 0:00:00|              PCR|                 6|               NULL|\n",
            "|14/3/2020 0:00:00|     39| 13/3/2020 0:00:00|                          11|             BOGOTA|                    11001|          BOGOTA|  21|                 1|   M|    Importado|          Casa|  Leve|            724|              ESPAÑA|Recuperado|     7/3/2020 0:00:00|        NULL|14/3/2020 0:00:00| 22/3/2020 0:00:00|              PCR|                 6|               NULL|\n",
            "|15/3/2020 0:00:00|     40| 14/3/2020 0:00:00|                          11|             BOGOTA|                    11001|          BOGOTA|  23|                 1|   F|    Importado|          Casa|  Leve|            724|              ESPAÑA|Recuperado|    13/3/2020 0:00:00|        NULL|15/3/2020 0:00:00| 28/3/2020 0:00:00|              PCR|                 6|               NULL|\n",
            "|15/3/2020 0:00:00|     46| 13/3/2020 0:00:00|                          11|             BOGOTA|                    11001|          BOGOTA|  44|                 1|   F|  Relacionado|          Casa|  Leve|           NULL|                NULL|Recuperado|     6/3/2020 0:00:00|        NULL|15/3/2020 0:00:00| 14/5/2020 0:00:00|              PCR|                 6|               NULL|\n",
            "+-----------------+-------+------------------+----------------------------+-------------------+-------------------------+----------------+----+------------------+----+-------------+--------------+------+---------------+--------------------+----------+---------------------+------------+-----------------+------------------+-----------------+------------------+-------------------+\n",
            "only showing top 20 rows\n",
            "\n"
          ]
        }
      ],
      "source": [
        "#filter the records\n",
        "df.filter(df['nombre_departamento'] =='BOGOTA').show()"
      ]
    },
    {
      "cell_type": "code",
      "execution_count": 23,
      "metadata": {
        "colab": {
          "base_uri": "https://localhost:8080/"
        },
        "id": "C1uW5Sxl8Qb5",
        "outputId": "97fd9c56-004d-48ab-9b22-22c37e47d586"
      },
      "outputs": [
        {
          "name": "stdout",
          "output_type": "stream",
          "text": [
            "+-------------+------+\n",
            "|tipo_contagio|estado|\n",
            "+-------------+------+\n",
            "|    Importado|  Leve|\n",
            "|    Importado|  Leve|\n",
            "|    Importado|  Leve|\n",
            "|    Importado|  Leve|\n",
            "|    Importado|  Leve|\n",
            "|    Importado|  Leve|\n",
            "|    Importado|  Leve|\n",
            "|    Importado|  Leve|\n",
            "|  Relacionado|  Leve|\n",
            "|  Relacionado|  Leve|\n",
            "+-------------+------+\n",
            "only showing top 10 rows\n",
            "\n"
          ]
        }
      ],
      "source": [
        "df.filter(df['nombre_departamento'] =='BOGOTA').select('tipo_contagio', 'estado').show(10)\n"
      ]
    },
    {
      "cell_type": "code",
      "execution_count": 25,
      "metadata": {
        "colab": {
          "base_uri": "https://localhost:8080/"
        },
        "id": "pHEyaOw88ZXf",
        "outputId": "dd627a13-8a9c-4b87-b773-0acceaa4d316"
      },
      "outputs": [
        {
          "name": "stdout",
          "output_type": "stream",
          "text": [
            "+-----------------+-------+------------------+----------------------------+-------------------+-------------------------+----------------+----+------------------+----+-------------+--------------+------+---------------+--------------------+----------+---------------------+------------+-----------------+------------------+-----------------+------------------+-------------------+\n",
            "|fecha_reporte_web|id_caso|fecha_notificacion|codigo_divipola_departamento|nombre_departamento|codigo_divipola_municipio|nombre_municipio|edad|unidad_medida_edad|sexo|tipo_contagio|ubicacion_caso|estado|codigo_iso_pais|         nombre_pais|recuperado|fecha_inicio_sintomas|fecha_muerte|fecha_diagnostico|fecha_recuperacion|tipo_recuperacion|pertenencia_etnica|nombre_grupo_etnico|\n",
            "+-----------------+-------+------------------+----------------------------+-------------------+-------------------------+----------------+----+------------------+----+-------------+--------------+------+---------------+--------------------+----------+---------------------+------------+-----------------+------------------+-----------------+------------------+-------------------+\n",
            "| 6/3/2020 0:00:00|      1|  2/3/2020 0:00:00|                          11|             BOGOTA|                    11001|          BOGOTA|  19|                 1|   F|    Importado|          Casa|  Leve|            380|              ITALIA|Recuperado|    27/2/2020 0:00:00|        NULL| 6/3/2020 0:00:00| 13/3/2020 0:00:00|              PCR|                 6|               NULL|\n",
            "|11/3/2020 0:00:00|      8|  9/3/2020 0:00:00|                          11|             BOGOTA|                    11001|          BOGOTA|  22|                 1|   F|    Importado|          Casa|  Leve|            724|              ESPAÑA|Recuperado|     6/3/2020 0:00:00|        NULL|11/3/2020 0:00:00| 21/3/2020 0:00:00|              PCR|                 6|               NULL|\n",
            "|14/3/2020 0:00:00|     23| 12/3/2020 0:00:00|                          11|             BOGOTA|                    11001|          BOGOTA|  23|                 1|   M|  Relacionado|          Casa|  Leve|           NULL|                NULL|Recuperado|     8/3/2020 0:00:00|        NULL|14/3/2020 0:00:00| 23/3/2020 0:00:00|              PCR|                 6|               NULL|\n",
            "|14/3/2020 0:00:00|     24| 12/3/2020 0:00:00|                          11|             BOGOTA|                    11001|          BOGOTA|  18|                 1|   F|    Importado|          Casa|  Leve|            724|              ESPAÑA|Recuperado|    12/3/2020 0:00:00|        NULL|14/3/2020 0:00:00| 27/3/2020 0:00:00|              PCR|                 6|               NULL|\n",
            "|15/3/2020 0:00:00|     34| 13/3/2020 0:00:00|                          11|             BOGOTA|                    11001|          BOGOTA|  23|                 1|   F|    Importado|          Casa|  Leve|            724|              ESPAÑA|Recuperado|    11/3/2020 0:00:00|        NULL|15/3/2020 0:00:00| 26/3/2020 0:00:00|              PCR|                 6|               NULL|\n",
            "|14/3/2020 0:00:00|     39| 13/3/2020 0:00:00|                          11|             BOGOTA|                    11001|          BOGOTA|  21|                 1|   M|    Importado|          Casa|  Leve|            724|              ESPAÑA|Recuperado|     7/3/2020 0:00:00|        NULL|14/3/2020 0:00:00| 22/3/2020 0:00:00|              PCR|                 6|               NULL|\n",
            "|15/3/2020 0:00:00|     40| 14/3/2020 0:00:00|                          11|             BOGOTA|                    11001|          BOGOTA|  23|                 1|   F|    Importado|          Casa|  Leve|            724|              ESPAÑA|Recuperado|    13/3/2020 0:00:00|        NULL|15/3/2020 0:00:00| 28/3/2020 0:00:00|              PCR|                 6|               NULL|\n",
            "|17/3/2020 0:00:00|     67| 14/3/2020 0:00:00|                          11|             BOGOTA|                    11001|          BOGOTA|  21|                 1|   M|    Importado|          Casa|  Leve|            724|              ESPAÑA|Recuperado|    10/3/2020 0:00:00|        NULL|17/3/2020 0:00:00| 15/4/2020 0:00:00|              PCR|                 6|               NULL|\n",
            "|17/3/2020 0:00:00|     69| 17/3/2020 0:00:00|                          11|             BOGOTA|                    11001|          BOGOTA|  22|                 1|   F|    Importado|          Casa|  Leve|            840|ESTADOS UNIDOS DE...|Recuperado|    14/3/2020 0:00:00|        NULL|17/3/2020 0:00:00| 29/3/2020 0:00:00|              PCR|                 6|               NULL|\n",
            "|17/3/2020 0:00:00|     74| 16/3/2020 0:00:00|                          11|             BOGOTA|                    11001|          BOGOTA|  18|                 1|   M|  Relacionado|          Casa|  Leve|           NULL|                NULL|Recuperado|    11/3/2020 0:00:00|        NULL|17/3/2020 0:00:00| 12/4/2020 0:00:00|              PCR|                 6|               NULL|\n",
            "|20/3/2020 0:00:00|    161| 19/3/2020 0:00:00|                          11|             BOGOTA|                    11001|          BOGOTA|  22|                 1|   F|    Importado|          Casa|  Leve|            840|ESTADOS UNIDOS DE...|Recuperado|    12/3/2020 0:00:00|        NULL|20/3/2020 0:00:00| 12/4/2020 0:00:00|              PCR|                 6|               NULL|\n",
            "|20/3/2020 0:00:00|    171| 20/3/2020 0:00:00|                          11|             BOGOTA|                    11001|          BOGOTA|  21|                 1|   F|  Relacionado|          Casa|  Leve|           NULL|                NULL|Recuperado|    19/3/2020 0:00:00|        NULL|20/3/2020 0:00:00| 12/4/2020 0:00:00|              PCR|                 6|               NULL|\n",
            "|20/3/2020 0:00:00|    175| 20/3/2020 0:00:00|                          11|             BOGOTA|                    11001|          BOGOTA|  23|                 1|   F|    Importado|          Casa|  Leve|            724|              ESPAÑA|Recuperado|     7/3/2020 0:00:00|        NULL|20/3/2020 0:00:00| 22/3/2020 0:00:00|              PCR|                 6|               NULL|\n",
            "|23/3/2020 0:00:00|    255| 21/3/2020 0:00:00|                          11|             BOGOTA|                    11001|          BOGOTA|  19|                 1|   F|    Importado|          Casa|  Leve|            840|ESTADOS UNIDOS DE...|Recuperado|    18/3/2020 0:00:00|        NULL|23/3/2020 0:00:00|  6/4/2020 0:00:00|              PCR|                 6|               NULL|\n",
            "|23/3/2020 0:00:00|    308| 20/3/2020 0:00:00|                          11|             BOGOTA|                    11001|          BOGOTA|  21|                 1|   F|  Relacionado|          Casa|  Leve|           NULL|                NULL|Recuperado|    16/3/2020 0:00:00|        NULL|23/3/2020 0:00:00| 18/5/2020 0:00:00|              PCR|                 5|               NULL|\n",
            "|23/3/2020 0:00:00|    312| 23/3/2020 0:00:00|                          11|             BOGOTA|                    11001|          BOGOTA|  18|                 1|   F|  Relacionado|          Casa|  Leve|           NULL|                NULL|Recuperado|    18/3/2020 0:00:00|        NULL|23/3/2020 0:00:00|  2/4/2020 0:00:00|              PCR|                 6|               NULL|\n",
            "|24/3/2020 0:00:00|    379| 20/3/2020 0:00:00|                          11|             BOGOTA|                    11001|          BOGOTA|  23|                 1|   F|  Relacionado|          Casa|  Leve|           NULL|                NULL|Recuperado|    13/3/2020 0:00:00|        NULL|24/3/2020 0:00:00| 31/5/2020 0:00:00|              PCR|                 6|               NULL|\n",
            "|24/3/2020 0:00:00|    399| 21/3/2020 0:00:00|                          11|             BOGOTA|                    11001|          BOGOTA|  21|                 1|   M|    Importado|          Casa|  Leve|            724|              ESPAÑA|Recuperado|    11/3/2020 0:00:00|        NULL|24/3/2020 0:00:00|  3/4/2020 0:00:00|              PCR|                 6|               NULL|\n",
            "|24/3/2020 0:00:00|    403| 21/3/2020 0:00:00|                          11|             BOGOTA|                    11001|          BOGOTA|  21|                 1|   M|    Importado|          Casa|  Leve|            484|              MÉXICO|Recuperado|    20/3/2020 0:00:00|        NULL|24/3/2020 0:00:00|  1/4/2020 0:00:00|              PCR|                 6|               NULL|\n",
            "|24/3/2020 0:00:00|    411| 21/3/2020 0:00:00|                          11|             BOGOTA|                    11001|          BOGOTA|  23|                 1|   F|    Importado|          Casa|  Leve|            484|              MÉXICO|Recuperado|    19/3/2020 0:00:00|        NULL|24/3/2020 0:00:00| 31/5/2020 0:00:00|           Tiempo|                 6|               NULL|\n",
            "+-----------------+-------+------------------+----------------------------+-------------------+-------------------------+----------------+----+------------------+----+-------------+--------------+------+---------------+--------------------+----------+---------------------+------------+-----------------+------------------+-----------------+------------------+-------------------+\n",
            "only showing top 20 rows\n",
            "\n"
          ]
        }
      ],
      "source": [
        "df.filter((df['nombre_departamento'] =='BOGOTA') & (df['edad'] < 25)).show()\n"
      ]
    },
    {
      "cell_type": "code",
      "execution_count": 26,
      "metadata": {
        "id": "QXr07mFz8yz3"
      },
      "outputs": [],
      "source": [
        "from pyspark.sql.functions import udf\n",
        "from pyspark.sql.types import StringType\n",
        "\n",
        "def clasificar_edad(edad):\n",
        "    if edad is None:\n",
        "        return \"Desconocido\"\n",
        "    elif edad > 18:\n",
        "        return \"Niño\"\n",
        "    elif 18 <= edad < 60:\n",
        "        return \"Adulto\"\n",
        "    else:\n",
        "        return \"Adulto Mayor\"\n",
        "\n",
        "clasificar_edad_udf = udf(clasificar_edad, StringType())"
      ]
    },
    {
      "cell_type": "code",
      "execution_count": 27,
      "metadata": {
        "colab": {
          "base_uri": "https://localhost:8080/"
        },
        "id": "NF3yEwym9A6M",
        "outputId": "29b3d50d-3c59-4555-86fa-a4f766fd0a11"
      },
      "outputs": [
        {
          "name": "stdout",
          "output_type": "stream",
          "text": [
            "+-----------------+-------+------------------+----------------------------+-------------------+-------------------------+----------------+----+------------------+----+-------------+--------------+------+---------------+--------------------+----------+---------------------+------------+-----------------+------------------+-----------------+------------------+-------------------+--------------+\n",
            "|fecha_reporte_web|id_caso|fecha_notificacion|codigo_divipola_departamento|nombre_departamento|codigo_divipola_municipio|nombre_municipio|edad|unidad_medida_edad|sexo|tipo_contagio|ubicacion_caso|estado|codigo_iso_pais|         nombre_pais|recuperado|fecha_inicio_sintomas|fecha_muerte|fecha_diagnostico|fecha_recuperacion|tipo_recuperacion|pertenencia_etnica|nombre_grupo_etnico|categoria_edad|\n",
            "+-----------------+-------+------------------+----------------------------+-------------------+-------------------------+----------------+----+------------------+----+-------------+--------------+------+---------------+--------------------+----------+---------------------+------------+-----------------+------------------+-----------------+------------------+-------------------+--------------+\n",
            "| 6/3/2020 0:00:00|      1|  2/3/2020 0:00:00|                          11|             BOGOTA|                    11001|          BOGOTA|  19|                 1|   F|    Importado|          Casa|  Leve|            380|              ITALIA|Recuperado|    27/2/2020 0:00:00|        NULL| 6/3/2020 0:00:00| 13/3/2020 0:00:00|              PCR|                 6|               NULL|          Niño|\n",
            "| 9/3/2020 0:00:00|      2|  6/3/2020 0:00:00|                          76|              VALLE|                    76111|            BUGA|  34|                 1|   M|    Importado|          Casa|  Leve|            724|              ESPAÑA|Recuperado|     4/3/2020 0:00:00|        NULL| 9/3/2020 0:00:00| 19/3/2020 0:00:00|              PCR|                 5|               NULL|          Niño|\n",
            "| 9/3/2020 0:00:00|      3|  7/3/2020 0:00:00|                           5|          ANTIOQUIA|                     5001|        MEDELLIN|  50|                 1|   F|    Importado|          Casa|  Leve|            724|              ESPAÑA|Recuperado|    29/2/2020 0:00:00|        NULL| 9/3/2020 0:00:00| 15/3/2020 0:00:00|              PCR|                 6|               NULL|          Niño|\n",
            "|11/3/2020 0:00:00|      4|  9/3/2020 0:00:00|                           5|          ANTIOQUIA|                     5001|        MEDELLIN|  55|                 1|   M|  Relacionado|          Casa|  Leve|           NULL|                NULL|Recuperado|     6/3/2020 0:00:00|        NULL|11/3/2020 0:00:00| 26/3/2020 0:00:00|              PCR|                 6|               NULL|          Niño|\n",
            "|11/3/2020 0:00:00|      5|  9/3/2020 0:00:00|                           5|          ANTIOQUIA|                     5001|        MEDELLIN|  25|                 1|   M|  Relacionado|          Casa|  Leve|           NULL|                NULL|Recuperado|     8/3/2020 0:00:00|        NULL|11/3/2020 0:00:00| 23/3/2020 0:00:00|              PCR|                 6|               NULL|          Niño|\n",
            "|11/3/2020 0:00:00|      6| 10/3/2020 0:00:00|                           5|          ANTIOQUIA|                     5360|          ITAGUI|  27|                 1|   F|  Relacionado|          Casa|  Leve|           NULL|                NULL|Recuperado|     6/3/2020 0:00:00|        NULL|11/3/2020 0:00:00| 26/3/2020 0:00:00|              PCR|                 6|               NULL|          Niño|\n",
            "|11/3/2020 0:00:00|      7|  8/3/2020 0:00:00|                       13001|          CARTAGENA|                    13001|       CARTAGENA|  85|                 1|   F|    Importado|          Casa|  Leve|            840|ESTADOS UNIDOS DE...|Recuperado|     2/3/2020 0:00:00|        NULL|11/3/2020 0:00:00| 17/3/2020 0:00:00|              PCR|                 6|               NULL|          Niño|\n",
            "|11/3/2020 0:00:00|      8|  9/3/2020 0:00:00|                          11|             BOGOTA|                    11001|          BOGOTA|  22|                 1|   F|    Importado|          Casa|  Leve|            724|              ESPAÑA|Recuperado|     6/3/2020 0:00:00|        NULL|11/3/2020 0:00:00| 21/3/2020 0:00:00|              PCR|                 6|               NULL|          Niño|\n",
            "|11/3/2020 0:00:00|      9|  8/3/2020 0:00:00|                          11|             BOGOTA|                    11001|          BOGOTA|  28|                 1|   F|    Importado|          Casa|  Leve|            724|              ESPAÑA|Recuperado|     7/3/2020 0:00:00|        NULL|11/3/2020 0:00:00| 23/3/2020 0:00:00|              PCR|                 6|               NULL|          Niño|\n",
            "|12/3/2020 0:00:00|     10| 12/3/2020 0:00:00|                          11|             BOGOTA|                    11001|          BOGOTA|  36|                 1|   F|    Importado|          Casa|  Leve|            724|              ESPAÑA|Recuperado|     6/3/2020 0:00:00|        NULL|12/3/2020 0:00:00| 21/3/2020 0:00:00|              PCR|                 6|               NULL|          Niño|\n",
            "|12/3/2020 0:00:00|     11| 11/3/2020 0:00:00|                          11|             BOGOTA|                    11001|          BOGOTA|  42|                 1|   F|    Importado|          Casa|  Leve|            724|              ESPAÑA|Recuperado|     6/3/2020 0:00:00|        NULL|12/3/2020 0:00:00| 31/3/2020 0:00:00|              PCR|                 6|               NULL|          Niño|\n",
            "|12/3/2020 0:00:00|     12| 10/3/2020 0:00:00|                          41|              HUILA|                    41001|           NEIVA|  74|                 1|   F|    Importado|          Casa|  Leve|            380|              ITALIA|Recuperado|     6/3/2020 0:00:00|        NULL|12/3/2020 0:00:00|  9/4/2020 0:00:00|              PCR|                 6|               NULL|          Niño|\n",
            "|12/3/2020 0:00:00|     13| 10/3/2020 0:00:00|                          41|              HUILA|                    41001|           NEIVA|  68|                 1|   F|  Relacionado|          Casa|  Leve|           NULL|                NULL|Recuperado|     6/3/2020 0:00:00|        NULL|12/3/2020 0:00:00| 30/3/2020 0:00:00|              PCR|                 6|               NULL|          Niño|\n",
            "|13/3/2020 0:00:00|     14| 10/3/2020 0:00:00|                          76|              VALLE|                    76520|         PALMIRA|  48|                 1|   M|    Importado|          Casa|  Leve|            724|              ESPAÑA|Recuperado|     7/3/2020 0:00:00|        NULL|13/3/2020 0:00:00| 21/3/2020 0:00:00|              PCR|                 5|               NULL|          Niño|\n",
            "|13/3/2020 0:00:00|     15| 13/3/2020 0:00:00|                          50|               META|                    50001|   VILLAVICENCIO|  30|                 1|   F|    Importado|          Casa|  Leve|            724|              ESPAÑA|Recuperado|     9/3/2020 0:00:00|        NULL|13/3/2020 0:00:00| 23/3/2020 0:00:00|              PCR|                 6|               NULL|          Niño|\n",
            "|13/3/2020 0:00:00|     16| 11/3/2020 0:00:00|                          11|             BOGOTA|                    11001|          BOGOTA|  61|                 1|   F|    Importado|          Casa|  Leve|            380|              ITALIA|Recuperado|     8/3/2020 0:00:00|        NULL|13/3/2020 0:00:00| 23/3/2020 0:00:00|              PCR|                 5|               NULL|          Niño|\n",
            "|14/3/2020 0:00:00|     17| 11/3/2020 0:00:00|                          11|             BOGOTA|                    11001|          BOGOTA|  73|                 1|   F|    Importado|          Casa|  Leve|            724|              ESPAÑA|Recuperado|    28/2/2020 0:00:00|        NULL|14/3/2020 0:00:00| 14/3/2020 0:00:00|              PCR|                 6|               NULL|          Niño|\n",
            "|14/3/2020 0:00:00|     18| 11/3/2020 0:00:00|                          11|             BOGOTA|                    11001|          BOGOTA|  54|                 1|   M|    Importado|          Casa|  Leve|            724|              ESPAÑA|Recuperado|     7/3/2020 0:00:00|        NULL|14/3/2020 0:00:00|  7/4/2020 0:00:00|           Tiempo|                 6|               NULL|          Niño|\n",
            "|14/3/2020 0:00:00|     19| 12/3/2020 0:00:00|                          11|             BOGOTA|                    11001|          BOGOTA|  54|                 1|   F|  Relacionado|          Casa|  Leve|           NULL|                NULL|Recuperado|     9/3/2020 0:00:00|        NULL|14/3/2020 0:00:00| 24/3/2020 0:00:00|              PCR|                 6|               NULL|          Niño|\n",
            "|14/3/2020 0:00:00|     20| 11/3/2020 0:00:00|                           5|          ANTIOQUIA|                     5001|        MEDELLIN|  26|                 1|   F|  Relacionado|          Casa|  Leve|           NULL|                NULL|Recuperado|     9/3/2020 0:00:00|        NULL|14/3/2020 0:00:00| 24/3/2020 0:00:00|              PCR|                 6|               NULL|          Niño|\n",
            "+-----------------+-------+------------------+----------------------------+-------------------+-------------------------+----------------+----+------------------+----+-------------+--------------+------+---------------+--------------------+----------+---------------------+------------+-----------------+------------------+-----------------+------------------+-------------------+--------------+\n",
            "only showing top 20 rows\n",
            "\n"
          ]
        }
      ],
      "source": [
        "df = df.withColumn(\"categoria_edad\", clasificar_edad_udf(df.edad))\n",
        "df.show()"
      ]
    }
  ],
  "metadata": {
    "colab": {
      "provenance": []
    },
    "kernelspec": {
      "display_name": "Python 3",
      "name": "python3"
    },
    "language_info": {
      "name": "python"
    }
  },
  "nbformat": 4,
  "nbformat_minor": 0
}
