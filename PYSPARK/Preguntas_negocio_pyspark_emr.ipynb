{
 "cells": [
  {
   "cell_type": "code",
   "execution_count": 1,
   "id": "d7aea4d0",
   "metadata": {},
   "outputs": [
    {
     "name": "stdout",
     "output_type": "stream",
     "text": [
      "Starting Spark application\n"
     ]
    },
    {
     "data": {
      "text/html": [
       "<table>\n",
       "<tr><th>ID</th><th>YARN Application ID</th><th>Kind</th><th>State</th><th>Spark UI</th><th>Driver log</th><th>User</th><th>Current session?</th></tr><tr><td>1</td><td>application_1731687788818_0002</td><td>pyspark</td><td>idle</td><td><a target=\"_blank\" href=\"http://ip-172-31-95-43.ec2.internal:20888/proxy/application_1731687788818_0002/\">Link</a></td><td><a target=\"_blank\" href=\"http://ip-172-31-90-159.ec2.internal:8042/node/containerlogs/container_1731687788818_0002_01_000001/livy\">Link</a></td><td>None</td><td>✔</td></tr></table>"
      ],
      "text/plain": [
       "<IPython.core.display.HTML object>"
      ]
     },
     "metadata": {},
     "output_type": "display_data"
    },
    {
     "data": {
      "application/vnd.jupyter.widget-view+json": {
       "model_id": "",
       "version_major": 2,
       "version_minor": 0
      },
      "text/plain": [
       "FloatProgress(value=0.0, bar_style='info', description='Progress:', layout=Layout(height='25px', width='50%'),…"
      ]
     },
     "metadata": {},
     "output_type": "display_data"
    },
    {
     "name": "stdout",
     "output_type": "stream",
     "text": [
      "SparkSession available as 'spark'.\n"
     ]
    },
    {
     "data": {
      "application/vnd.jupyter.widget-view+json": {
       "model_id": "",
       "version_major": 2,
       "version_minor": 0
      },
      "text/plain": [
       "FloatProgress(value=0.0, bar_style='info', description='Progress:', layout=Layout(height='25px', width='50%'),…"
      ]
     },
     "metadata": {},
     "output_type": "display_data"
    },
    {
     "name": "stdout",
     "output_type": "stream",
     "text": [
      "<pyspark.sql.session.SparkSession object at 0x7f9ff5a43d90>"
     ]
    }
   ],
   "source": [
    "from pyspark.sql import SparkSession\n",
    "\n",
    "spark"
   ]
  },
  {
   "cell_type": "code",
   "execution_count": 2,
   "id": "295b8aa8",
   "metadata": {},
   "outputs": [
    {
     "data": {
      "application/vnd.jupyter.widget-view+json": {
       "model_id": "",
       "version_major": 2,
       "version_minor": 0
      },
      "text/plain": [
       "FloatProgress(value=0.0, bar_style='info', description='Progress:', layout=Layout(height='25px', width='50%'),…"
      ]
     },
     "metadata": {},
     "output_type": "display_data"
    },
    {
     "name": "stdout",
     "output_type": "stream",
     "text": [
      "<SparkContext master=yarn appName=livy-session-1>"
     ]
    }
   ],
   "source": [
    "sc"
   ]
  },
  {
   "cell_type": "code",
   "execution_count": 3,
   "id": "586ccc1e",
   "metadata": {},
   "outputs": [
    {
     "data": {
      "application/vnd.jupyter.widget-view+json": {
       "model_id": "",
       "version_major": 2,
       "version_minor": 0
      },
      "text/plain": [
       "FloatProgress(value=0.0, bar_style='info', description='Progress:', layout=Layout(height='25px', width='50%'),…"
      ]
     },
     "metadata": {},
     "output_type": "display_data"
    }
   ],
   "source": [
    "df = spark.read.csv('s3://mahoyosv1/covid19/Casos_positivos_de_COVID-19_en_Colombia-100K.csv', inferSchema=True, header=True)\n"
   ]
  },
  {
   "cell_type": "code",
   "execution_count": 4,
   "id": "99468124",
   "metadata": {},
   "outputs": [
    {
     "data": {
      "application/vnd.jupyter.widget-view+json": {
       "model_id": "",
       "version_major": 2,
       "version_minor": 0
      },
      "text/plain": [
       "FloatProgress(value=0.0, bar_style='info', description='Progress:', layout=Layout(height='25px', width='50%'),…"
      ]
     },
     "metadata": {},
     "output_type": "display_data"
    },
    {
     "name": "stdout",
     "output_type": "stream",
     "text": [
      "['fecha reporte web', 'ID de caso', 'Fecha de notificación', 'Código DIVIPOLA departamento', 'Nombre departamento', 'Código DIVIPOLA municipio', 'Nombre municipio', 'Edad', 'Unidad de medida de edad', 'Sexo', 'Tipo de contagio', 'Ubicación del caso', 'Estado', 'Código ISO del país', 'Nombre del país', 'Recuperado', 'Fecha de inicio de síntomas', 'Fecha de muerte', 'Fecha de diagnóstico', 'Fecha de recuperación', 'Tipo de recuperación', 'Pertenencia étnica', 'Nombre del grupo étnico']"
     ]
    }
   ],
   "source": [
    "df.columns\n"
   ]
  },
  {
   "cell_type": "code",
   "execution_count": 5,
   "id": "40b633f6",
   "metadata": {},
   "outputs": [
    {
     "data": {
      "application/vnd.jupyter.widget-view+json": {
       "model_id": "",
       "version_major": 2,
       "version_minor": 0
      },
      "text/plain": [
       "FloatProgress(value=0.0, bar_style='info', description='Progress:', layout=Layout(height='25px', width='50%'),…"
      ]
     },
     "metadata": {},
     "output_type": "display_data"
    },
    {
     "name": "stdout",
     "output_type": "stream",
     "text": [
      "23"
     ]
    }
   ],
   "source": [
    "len(df.columns)\n"
   ]
  },
  {
   "cell_type": "code",
   "execution_count": 6,
   "id": "e2ec26bd",
   "metadata": {},
   "outputs": [
    {
     "data": {
      "application/vnd.jupyter.widget-view+json": {
       "model_id": "",
       "version_major": 2,
       "version_minor": 0
      },
      "text/plain": [
       "FloatProgress(value=0.0, bar_style='info', description='Progress:', layout=Layout(height='25px', width='50%'),…"
      ]
     },
     "metadata": {},
     "output_type": "display_data"
    },
    {
     "name": "stdout",
     "output_type": "stream",
     "text": [
      "100000"
     ]
    }
   ],
   "source": [
    "df.count()\n"
   ]
  },
  {
   "cell_type": "code",
   "execution_count": 7,
   "id": "95131a34",
   "metadata": {},
   "outputs": [
    {
     "data": {
      "application/vnd.jupyter.widget-view+json": {
       "model_id": "",
       "version_major": 2,
       "version_minor": 0
      },
      "text/plain": [
       "FloatProgress(value=0.0, bar_style='info', description='Progress:', layout=Layout(height='25px', width='50%'),…"
      ]
     },
     "metadata": {},
     "output_type": "display_data"
    },
    {
     "name": "stdout",
     "output_type": "stream",
     "text": [
      "(100000, 23)"
     ]
    }
   ],
   "source": [
    "print((df.count(), len(df.columns)))\n"
   ]
  },
  {
   "cell_type": "code",
   "execution_count": 8,
   "id": "cd676237",
   "metadata": {},
   "outputs": [
    {
     "data": {
      "application/vnd.jupyter.widget-view+json": {
       "model_id": "",
       "version_major": 2,
       "version_minor": 0
      },
      "text/plain": [
       "FloatProgress(value=0.0, bar_style='info', description='Progress:', layout=Layout(height='25px', width='50%'),…"
      ]
     },
     "metadata": {},
     "output_type": "display_data"
    },
    {
     "name": "stdout",
     "output_type": "stream",
     "text": [
      "root\n",
      " |-- fecha reporte web: string (nullable = true)\n",
      " |-- ID de caso: integer (nullable = true)\n",
      " |-- Fecha de notificación: string (nullable = true)\n",
      " |-- Código DIVIPOLA departamento: integer (nullable = true)\n",
      " |-- Nombre departamento: string (nullable = true)\n",
      " |-- Código DIVIPOLA municipio: integer (nullable = true)\n",
      " |-- Nombre municipio: string (nullable = true)\n",
      " |-- Edad: integer (nullable = true)\n",
      " |-- Unidad de medida de edad: integer (nullable = true)\n",
      " |-- Sexo: string (nullable = true)\n",
      " |-- Tipo de contagio: string (nullable = true)\n",
      " |-- Ubicación del caso: string (nullable = true)\n",
      " |-- Estado: string (nullable = true)\n",
      " |-- Código ISO del país: integer (nullable = true)\n",
      " |-- Nombre del país: string (nullable = true)\n",
      " |-- Recuperado: string (nullable = true)\n",
      " |-- Fecha de inicio de síntomas: string (nullable = true)\n",
      " |-- Fecha de muerte: string (nullable = true)\n",
      " |-- Fecha de diagnóstico: string (nullable = true)\n",
      " |-- Fecha de recuperación: string (nullable = true)\n",
      " |-- Tipo de recuperación: string (nullable = true)\n",
      " |-- Pertenencia étnica: integer (nullable = true)\n",
      " |-- Nombre del grupo étnico: string (nullable = true)"
     ]
    }
   ],
   "source": [
    "df.printSchema()\n"
   ]
  },
  {
   "cell_type": "code",
   "execution_count": 21,
   "id": "6ec49eb6",
   "metadata": {},
   "outputs": [
    {
     "data": {
      "application/vnd.jupyter.widget-view+json": {
       "model_id": "",
       "version_major": 2,
       "version_minor": 0
      },
      "text/plain": [
       "FloatProgress(value=0.0, bar_style='info', description='Progress:', layout=Layout(height='25px', width='50%'),…"
      ]
     },
     "metadata": {},
     "output_type": "display_data"
    }
   ],
   "source": [
    "df = df.withColumnRenamed(\"fecha reporte web\", \"fecha_reporte_web\") \\\n",
    "       .withColumnRenamed(\"ID de caso\", \"id_caso\") \\\n",
    "       .withColumnRenamed(\"Fecha de notificación\", \"fecha_notificacion\") \\\n",
    "       .withColumnRenamed(\"Código DIVIPOLA departamento\", \"codigo_divipola_departamento\") \\\n",
    "       .withColumnRenamed(\"Nombre departamento\", \"nombre_departamento\") \\\n",
    "       .withColumnRenamed(\"Código DIVIPOLA municipio\", \"codigo_divipola_municipio\") \\\n",
    "       .withColumnRenamed(\"Nombre municipio\", \"nombre_municipio\") \\\n",
    "       .withColumnRenamed(\"Edad\", \"edad\") \\\n",
    "       .withColumnRenamed(\"Unidad de medida de edad\", \"unidad_medida_edad\") \\\n",
    "       .withColumnRenamed(\"Sexo\", \"sexo\") \\\n",
    "       .withColumnRenamed(\"Tipo de contagio\", \"tipo_contagio\") \\\n",
    "       .withColumnRenamed(\"Ubicación del caso\", \"ubicacion_caso\") \\\n",
    "       .withColumnRenamed(\"Estado\", \"estado\") \\\n",
    "       .withColumnRenamed(\"Código ISO del país\", \"codigo_iso_pais\") \\\n",
    "       .withColumnRenamed(\"Nombre del país\", \"nombre_pais\") \\\n",
    "       .withColumnRenamed(\"Recuperado\", \"recuperado\") \\\n",
    "       .withColumnRenamed(\"Fecha de inicio de síntomas\", \"fecha_inicio_sintomas\") \\\n",
    "       .withColumnRenamed(\"Fecha de muerte\", \"fecha_muerte\") \\\n",
    "       .withColumnRenamed(\"Fecha de diagnóstico\", \"fecha_diagnostico\") \\\n",
    "       .withColumnRenamed(\"Fecha de recuperación\", \"fecha_recuperacion\") \\\n",
    "       .withColumnRenamed(\"Tipo de recuperación\", \"tipo_recuperacion\") \\\n",
    "       .withColumnRenamed(\"Pertenencia étnica\", \"pertenencia_etnica\") \\\n",
    "       .withColumnRenamed(\"Nombre del grupo étnico\", \"nombre_grupo_etnico\")"
   ]
  },
  {
   "cell_type": "code",
   "execution_count": 10,
   "id": "764f219e",
   "metadata": {},
   "outputs": [
    {
     "data": {
      "application/vnd.jupyter.widget-view+json": {
       "model_id": "",
       "version_major": 2,
       "version_minor": 0
      },
      "text/plain": [
       "FloatProgress(value=0.0, bar_style='info', description='Progress:', layout=Layout(height='25px', width='50%'),…"
      ]
     },
     "metadata": {},
     "output_type": "display_data"
    },
    {
     "name": "stdout",
     "output_type": "stream",
     "text": [
      "+-----------------+-------+---------------------+----------------------------+-------------------+-------------------------+----------------+----+------------------+----+-------------+------------------+------+-------------------+---------------+----------+---------------------------+------------+--------------------+---------------------+--------------------+------------------+-----------------------+\n",
      "|fecha_reporte_web|id_caso|Fecha de notificación|Código DIVIPOLA departamento|nombre_departamento|Código DIVIPOLA municipio|nombre_municipio|edad|unidad_medida_edad|sexo|tipo_contagio|Ubicación del caso|estado|Código ISO del país|Nombre del país|recuperado|Fecha de inicio de síntomas|fecha_muerte|Fecha de diagnóstico|Fecha de recuperación|Tipo de recuperación|Pertenencia étnica|Nombre del grupo étnico|\n",
      "+-----------------+-------+---------------------+----------------------------+-------------------+-------------------------+----------------+----+------------------+----+-------------+------------------+------+-------------------+---------------+----------+---------------------------+------------+--------------------+---------------------+--------------------+------------------+-----------------------+\n",
      "| 6/3/2020 0:00:00|      1|     2/3/2020 0:00:00|                          11|             BOGOTA|                    11001|          BOGOTA|  19|                 1|   F|    Importado|              Casa|  Leve|                380|         ITALIA|Recuperado|          27/2/2020 0:00:00|        NULL|    6/3/2020 0:00:00|    13/3/2020 0:00:00|                 PCR|                 6|                   NULL|\n",
      "| 9/3/2020 0:00:00|      2|     6/3/2020 0:00:00|                          76|              VALLE|                    76111|            BUGA|  34|                 1|   M|    Importado|              Casa|  Leve|                724|         ESPAÑA|Recuperado|           4/3/2020 0:00:00|        NULL|    9/3/2020 0:00:00|    19/3/2020 0:00:00|                 PCR|                 5|                   NULL|\n",
      "| 9/3/2020 0:00:00|      3|     7/3/2020 0:00:00|                           5|          ANTIOQUIA|                     5001|        MEDELLIN|  50|                 1|   F|    Importado|              Casa|  Leve|                724|         ESPAÑA|Recuperado|          29/2/2020 0:00:00|        NULL|    9/3/2020 0:00:00|    15/3/2020 0:00:00|                 PCR|                 6|                   NULL|\n",
      "|11/3/2020 0:00:00|      4|     9/3/2020 0:00:00|                           5|          ANTIOQUIA|                     5001|        MEDELLIN|  55|                 1|   M|  Relacionado|              Casa|  Leve|               NULL|           NULL|Recuperado|           6/3/2020 0:00:00|        NULL|   11/3/2020 0:00:00|    26/3/2020 0:00:00|                 PCR|                 6|                   NULL|\n",
      "|11/3/2020 0:00:00|      5|     9/3/2020 0:00:00|                           5|          ANTIOQUIA|                     5001|        MEDELLIN|  25|                 1|   M|  Relacionado|              Casa|  Leve|               NULL|           NULL|Recuperado|           8/3/2020 0:00:00|        NULL|   11/3/2020 0:00:00|    23/3/2020 0:00:00|                 PCR|                 6|                   NULL|\n",
      "+-----------------+-------+---------------------+----------------------------+-------------------+-------------------------+----------------+----+------------------+----+-------------+------------------+------+-------------------+---------------+----------+---------------------------+------------+--------------------+---------------------+--------------------+------------------+-----------------------+\n",
      "only showing top 5 rows"
     ]
    }
   ],
   "source": [
    "df.show(5)\n"
   ]
  },
  {
   "cell_type": "code",
   "execution_count": 11,
   "id": "77141d98",
   "metadata": {},
   "outputs": [
    {
     "data": {
      "application/vnd.jupyter.widget-view+json": {
       "model_id": "",
       "version_major": 2,
       "version_minor": 0
      },
      "text/plain": [
       "FloatProgress(value=0.0, bar_style='info', description='Progress:', layout=Layout(height='25px', width='50%'),…"
      ]
     },
     "metadata": {},
     "output_type": "display_data"
    },
    {
     "name": "stdout",
     "output_type": "stream",
     "text": [
      "+----+----+\n",
      "|edad|sexo|\n",
      "+----+----+\n",
      "|  19|   F|\n",
      "|  34|   M|\n",
      "|  50|   F|\n",
      "|  55|   M|\n",
      "|  25|   M|\n",
      "+----+----+\n",
      "only showing top 5 rows"
     ]
    }
   ],
   "source": [
    "df.select('edad', 'sexo').show(5)\n"
   ]
  },
  {
   "cell_type": "code",
   "execution_count": 12,
   "id": "5337b88a",
   "metadata": {},
   "outputs": [
    {
     "data": {
      "application/vnd.jupyter.widget-view+json": {
       "model_id": "",
       "version_major": 2,
       "version_minor": 0
      },
      "text/plain": [
       "FloatProgress(value=0.0, bar_style='info', description='Progress:', layout=Layout(height='25px', width='50%'),…"
      ]
     },
     "metadata": {},
     "output_type": "display_data"
    },
    {
     "name": "stdout",
     "output_type": "stream",
     "text": [
      "+-------+-----------------+------------------+---------------------+----------------------------+-------------------+-------------------------+----------------+------------------+-------------------+------+-------------+------------------+---------+-------------------+---------------+----------+---------------------------+----------------+--------------------+---------------------+--------------------+------------------+-----------------------+\n",
      "|summary|fecha_reporte_web|           id_caso|Fecha de notificación|Código DIVIPOLA departamento|nombre_departamento|Código DIVIPOLA municipio|nombre_municipio|              edad| unidad_medida_edad|  sexo|tipo_contagio|Ubicación del caso|   estado|Código ISO del país|Nombre del país|recuperado|Fecha de inicio de síntomas|    fecha_muerte|Fecha de diagnóstico|Fecha de recuperación|Tipo de recuperación|Pertenencia étnica|Nombre del grupo étnico|\n",
      "+-------+-----------------+------------------+---------------------+----------------------------+-------------------+-------------------------+----------------+------------------+-------------------+------+-------------+------------------+---------+-------------------+---------------+----------+---------------------------+----------------+--------------------+---------------------+--------------------+------------------+-----------------------+\n",
      "|  count|           100000|            100000|               100000|                      100000|             100000|                   100000|          100000|            100000|             100000|100000|       100000|            100000|   100000|                912|            912|    100000|                      91615|            5633|               97693|                94832|               94832|            100000|                   5658|\n",
      "|   mean|             NULL|       50038.74855|                 NULL|                   2631.6288|               NULL|              25327.34487|            NULL|          39.30175|            1.00637|  NULL|         NULL|              NULL|     NULL|  596.3475877192982|           NULL|      NULL|                       NULL|            NULL|                NULL|                 NULL|                NULL|           5.57693|                   NULL|\n",
      "| stddev|             NULL|28870.559312724497|                 NULL|           6172.660309006438|               NULL|       25830.580807180544|            NULL|18.420127848324004|0.08893538213232118|  NULL|         NULL|              NULL|     NULL| 255.56508665655983|           NULL|      NULL|                       NULL|            NULL|                NULL|                 NULL|                NULL| 1.182825331930982|                   NULL|\n",
      "|    min| 1/4/2020 0:00:00|                 1|     1/4/2020 0:00:00|                           5|           AMAZONAS|                     5001|          ABREGO|                 1|                  1|     F|  Comunitaria|              Casa|Fallecido|                 32|       ALEMANIA| Fallecido|           1/3/2020 0:00:00|1/1/2021 0:00:00|    1/4/2020 0:00:00|     1/1/2021 0:00:00|                 PCR|                 1|                 AMBALO|\n",
      "|    max| 9/6/2020 0:00:00|            100040|     9/7/2020 0:00:00|                       47001|            VICHADA|                    99001| puerto COLOMBIA|               104|                  3|     M|  Relacionado|               N/A|      N/A|                862|      VENEZUELA| fallecido|           9/7/2020 0:00:00|9/9/2020 0:00:00|    9/9/2020 0:00:00|     9/8/2020 0:00:00|              Tiempo|                 6|                   ZENU|\n",
      "+-------+-----------------+------------------+---------------------+----------------------------+-------------------+-------------------------+----------------+------------------+-------------------+------+-------------+------------------+---------+-------------------+---------------+----------+---------------------------+----------------+--------------------+---------------------+--------------------+------------------+-----------------------+"
     ]
    }
   ],
   "source": [
    "df.describe().show()\n"
   ]
  },
  {
   "cell_type": "code",
   "execution_count": 25,
   "id": "2c9a7386",
   "metadata": {},
   "outputs": [
    {
     "data": {
      "application/vnd.jupyter.widget-view+json": {
       "model_id": "",
       "version_major": 2,
       "version_minor": 0
      },
      "text/plain": [
       "FloatProgress(value=0.0, bar_style='info', description='Progress:', layout=Layout(height='25px', width='50%'),…"
      ]
     },
     "metadata": {},
     "output_type": "display_data"
    },
    {
     "name": "stdout",
     "output_type": "stream",
     "text": [
      "+-----------------+-------+---------------------+----------------------------+-------------------+-------------------------+----------------+----+------------------+----+-------------+------------------+------+-------------------+--------------------+----------+---------------------------+------------+--------------------+---------------------+--------------------+------------------+-----------------------+\n",
      "|fecha_reporte_web|id_caso|Fecha de notificación|Código DIVIPOLA departamento|nombre_departamento|Código DIVIPOLA municipio|nombre_municipio|edad|unidad_medida_edad|sexo|tipo_contagio|Ubicación del caso|estado|Código ISO del país|     Nombre del país|recuperado|Fecha de inicio de síntomas|fecha_muerte|Fecha de diagnóstico|Fecha de recuperación|Tipo de recuperación|Pertenencia étnica|Nombre del grupo étnico|\n",
      "+-----------------+-------+---------------------+----------------------------+-------------------+-------------------------+----------------+----+------------------+----+-------------+------------------+------+-------------------+--------------------+----------+---------------------------+------------+--------------------+---------------------+--------------------+------------------+-----------------------+\n",
      "| 6/3/2020 0:00:00|      1|     2/3/2020 0:00:00|                          11|             BOGOTA|                    11001|          BOGOTA|  19|                 1|   F|    Importado|              Casa|  Leve|                380|              ITALIA|Recuperado|          27/2/2020 0:00:00|        NULL|    6/3/2020 0:00:00|    13/3/2020 0:00:00|                 PCR|                 6|                   NULL|\n",
      "|11/3/2020 0:00:00|      8|     9/3/2020 0:00:00|                          11|             BOGOTA|                    11001|          BOGOTA|  22|                 1|   F|    Importado|              Casa|  Leve|                724|              ESPAÑA|Recuperado|           6/3/2020 0:00:00|        NULL|   11/3/2020 0:00:00|    21/3/2020 0:00:00|                 PCR|                 6|                   NULL|\n",
      "|11/3/2020 0:00:00|      9|     8/3/2020 0:00:00|                          11|             BOGOTA|                    11001|          BOGOTA|  28|                 1|   F|    Importado|              Casa|  Leve|                724|              ESPAÑA|Recuperado|           7/3/2020 0:00:00|        NULL|   11/3/2020 0:00:00|    23/3/2020 0:00:00|                 PCR|                 6|                   NULL|\n",
      "|12/3/2020 0:00:00|     10|    12/3/2020 0:00:00|                          11|             BOGOTA|                    11001|          BOGOTA|  36|                 1|   F|    Importado|              Casa|  Leve|                724|              ESPAÑA|Recuperado|           6/3/2020 0:00:00|        NULL|   12/3/2020 0:00:00|    21/3/2020 0:00:00|                 PCR|                 6|                   NULL|\n",
      "|12/3/2020 0:00:00|     11|    11/3/2020 0:00:00|                          11|             BOGOTA|                    11001|          BOGOTA|  42|                 1|   F|    Importado|              Casa|  Leve|                724|              ESPAÑA|Recuperado|           6/3/2020 0:00:00|        NULL|   12/3/2020 0:00:00|    31/3/2020 0:00:00|                 PCR|                 6|                   NULL|\n",
      "|13/3/2020 0:00:00|     16|    11/3/2020 0:00:00|                          11|             BOGOTA|                    11001|          BOGOTA|  61|                 1|   F|    Importado|              Casa|  Leve|                380|              ITALIA|Recuperado|           8/3/2020 0:00:00|        NULL|   13/3/2020 0:00:00|    23/3/2020 0:00:00|                 PCR|                 5|                   NULL|\n",
      "|14/3/2020 0:00:00|     17|    11/3/2020 0:00:00|                          11|             BOGOTA|                    11001|          BOGOTA|  73|                 1|   F|    Importado|              Casa|  Leve|                724|              ESPAÑA|Recuperado|          28/2/2020 0:00:00|        NULL|   14/3/2020 0:00:00|    14/3/2020 0:00:00|                 PCR|                 6|                   NULL|\n",
      "|14/3/2020 0:00:00|     18|    11/3/2020 0:00:00|                          11|             BOGOTA|                    11001|          BOGOTA|  54|                 1|   M|    Importado|              Casa|  Leve|                724|              ESPAÑA|Recuperado|           7/3/2020 0:00:00|        NULL|   14/3/2020 0:00:00|     7/4/2020 0:00:00|              Tiempo|                 6|                   NULL|\n",
      "|14/3/2020 0:00:00|     19|    12/3/2020 0:00:00|                          11|             BOGOTA|                    11001|          BOGOTA|  54|                 1|   F|  Relacionado|              Casa|  Leve|               NULL|                NULL|Recuperado|           9/3/2020 0:00:00|        NULL|   14/3/2020 0:00:00|    24/3/2020 0:00:00|                 PCR|                 6|                   NULL|\n",
      "|14/3/2020 0:00:00|     23|    12/3/2020 0:00:00|                          11|             BOGOTA|                    11001|          BOGOTA|  23|                 1|   M|  Relacionado|              Casa|  Leve|               NULL|                NULL|Recuperado|           8/3/2020 0:00:00|        NULL|   14/3/2020 0:00:00|    23/3/2020 0:00:00|                 PCR|                 6|                   NULL|\n",
      "|14/3/2020 0:00:00|     24|    12/3/2020 0:00:00|                          11|             BOGOTA|                    11001|          BOGOTA|  18|                 1|   F|    Importado|              Casa|  Leve|                724|              ESPAÑA|Recuperado|          12/3/2020 0:00:00|        NULL|   14/3/2020 0:00:00|    27/3/2020 0:00:00|                 PCR|                 6|                   NULL|\n",
      "|15/3/2020 0:00:00|     33|    13/3/2020 0:00:00|                          11|             BOGOTA|                    11001|          BOGOTA|  59|                 1|   M|    Importado|              Casa|  Leve|                724|              ESPAÑA|Recuperado|          12/3/2020 0:00:00|        NULL|   15/3/2020 0:00:00|    21/4/2020 0:00:00|                 PCR|                 6|                   NULL|\n",
      "|15/3/2020 0:00:00|     34|    13/3/2020 0:00:00|                          11|             BOGOTA|                    11001|          BOGOTA|  23|                 1|   F|    Importado|              Casa|  Leve|                724|              ESPAÑA|Recuperado|          11/3/2020 0:00:00|        NULL|   15/3/2020 0:00:00|    26/3/2020 0:00:00|                 PCR|                 6|                   NULL|\n",
      "|14/3/2020 0:00:00|     35|    12/3/2020 0:00:00|                          11|             BOGOTA|                    11001|          BOGOTA|  54|                 1|   M|    Importado|              Casa|  Leve|                724|              ESPAÑA|Recuperado|          11/3/2020 0:00:00|        NULL|   14/3/2020 0:00:00|    26/3/2020 0:00:00|                 PCR|                 6|                   NULL|\n",
      "|14/3/2020 0:00:00|     36|    13/3/2020 0:00:00|                          11|             BOGOTA|                    11001|          BOGOTA|  72|                 1|   M|    Importado|              Casa|  Leve|                840|ESTADOS UNIDOS DE...|Recuperado|          12/3/2020 0:00:00|        NULL|   14/3/2020 0:00:00|    27/3/2020 0:00:00|                 PCR|                 6|                   NULL|\n",
      "|14/3/2020 0:00:00|     37|    13/3/2020 0:00:00|                          11|             BOGOTA|                    11001|          BOGOTA|  45|                 1|   F|  Relacionado|              Casa|  Leve|               NULL|                NULL|Recuperado|          12/3/2020 0:00:00|        NULL|   14/3/2020 0:00:00|    27/3/2020 0:00:00|                 PCR|                 6|                   NULL|\n",
      "|14/3/2020 0:00:00|     38|    14/3/2020 0:00:00|                          11|             BOGOTA|                    11001|          BOGOTA|  29|                 1|   M|    Importado|              Casa|  Leve|                724|              ESPAÑA|Recuperado|          13/3/2020 0:00:00|        NULL|   14/3/2020 0:00:00|    28/3/2020 0:00:00|                 PCR|                 6|                   NULL|\n",
      "|14/3/2020 0:00:00|     39|    13/3/2020 0:00:00|                          11|             BOGOTA|                    11001|          BOGOTA|  21|                 1|   M|    Importado|              Casa|  Leve|                724|              ESPAÑA|Recuperado|           7/3/2020 0:00:00|        NULL|   14/3/2020 0:00:00|    22/3/2020 0:00:00|                 PCR|                 6|                   NULL|\n",
      "|15/3/2020 0:00:00|     40|    14/3/2020 0:00:00|                          11|             BOGOTA|                    11001|          BOGOTA|  23|                 1|   F|    Importado|              Casa|  Leve|                724|              ESPAÑA|Recuperado|          13/3/2020 0:00:00|        NULL|   15/3/2020 0:00:00|    28/3/2020 0:00:00|                 PCR|                 6|                   NULL|\n",
      "|15/3/2020 0:00:00|     46|    13/3/2020 0:00:00|                          11|             BOGOTA|                    11001|          BOGOTA|  44|                 1|   F|  Relacionado|              Casa|  Leve|               NULL|                NULL|Recuperado|           6/3/2020 0:00:00|        NULL|   15/3/2020 0:00:00|    14/5/2020 0:00:00|                 PCR|                 6|                   NULL|\n",
      "+-----------------+-------+---------------------+----------------------------+-------------------+-------------------------+----------------+----+------------------+----+-------------+------------------+------+-------------------+--------------------+----------+---------------------------+------------+--------------------+---------------------+--------------------+------------------+-----------------------+\n",
      "only showing top 20 rows"
     ]
    }
   ],
   "source": [
    "df.filter(df['nombre_departamento'] =='BOGOTA').show()"
   ]
  },
  {
   "cell_type": "code",
   "execution_count": 26,
   "id": "f0f3cbc3",
   "metadata": {},
   "outputs": [
    {
     "data": {
      "application/vnd.jupyter.widget-view+json": {
       "model_id": "",
       "version_major": 2,
       "version_minor": 0
      },
      "text/plain": [
       "FloatProgress(value=0.0, bar_style='info', description='Progress:', layout=Layout(height='25px', width='50%'),…"
      ]
     },
     "metadata": {},
     "output_type": "display_data"
    },
    {
     "name": "stdout",
     "output_type": "stream",
     "text": [
      "+-------------+------+\n",
      "|tipo_contagio|estado|\n",
      "+-------------+------+\n",
      "|    Importado|  Leve|\n",
      "|    Importado|  Leve|\n",
      "|    Importado|  Leve|\n",
      "|    Importado|  Leve|\n",
      "|    Importado|  Leve|\n",
      "|    Importado|  Leve|\n",
      "|    Importado|  Leve|\n",
      "|    Importado|  Leve|\n",
      "|  Relacionado|  Leve|\n",
      "|  Relacionado|  Leve|\n",
      "+-------------+------+\n",
      "only showing top 10 rows"
     ]
    }
   ],
   "source": [
    "df.filter(df['nombre_departamento'] =='BOGOTA').select('tipo_contagio', 'estado').show(10)\n"
   ]
  },
  {
   "cell_type": "code",
   "execution_count": 27,
   "id": "4830a609",
   "metadata": {},
   "outputs": [
    {
     "data": {
      "application/vnd.jupyter.widget-view+json": {
       "model_id": "",
       "version_major": 2,
       "version_minor": 0
      },
      "text/plain": [
       "FloatProgress(value=0.0, bar_style='info', description='Progress:', layout=Layout(height='25px', width='50%'),…"
      ]
     },
     "metadata": {},
     "output_type": "display_data"
    },
    {
     "name": "stdout",
     "output_type": "stream",
     "text": [
      "+-----------------+-------+---------------------+----------------------------+-------------------+-------------------------+----------------+----+------------------+----+-------------+------------------+------+-------------------+--------------------+----------+---------------------------+------------+--------------------+---------------------+--------------------+------------------+-----------------------+\n",
      "|fecha_reporte_web|id_caso|Fecha de notificación|Código DIVIPOLA departamento|nombre_departamento|Código DIVIPOLA municipio|nombre_municipio|edad|unidad_medida_edad|sexo|tipo_contagio|Ubicación del caso|estado|Código ISO del país|     Nombre del país|recuperado|Fecha de inicio de síntomas|fecha_muerte|Fecha de diagnóstico|Fecha de recuperación|Tipo de recuperación|Pertenencia étnica|Nombre del grupo étnico|\n",
      "+-----------------+-------+---------------------+----------------------------+-------------------+-------------------------+----------------+----+------------------+----+-------------+------------------+------+-------------------+--------------------+----------+---------------------------+------------+--------------------+---------------------+--------------------+------------------+-----------------------+\n",
      "| 6/3/2020 0:00:00|      1|     2/3/2020 0:00:00|                          11|             BOGOTA|                    11001|          BOGOTA|  19|                 1|   F|    Importado|              Casa|  Leve|                380|              ITALIA|Recuperado|          27/2/2020 0:00:00|        NULL|    6/3/2020 0:00:00|    13/3/2020 0:00:00|                 PCR|                 6|                   NULL|\n",
      "|11/3/2020 0:00:00|      8|     9/3/2020 0:00:00|                          11|             BOGOTA|                    11001|          BOGOTA|  22|                 1|   F|    Importado|              Casa|  Leve|                724|              ESPAÑA|Recuperado|           6/3/2020 0:00:00|        NULL|   11/3/2020 0:00:00|    21/3/2020 0:00:00|                 PCR|                 6|                   NULL|\n",
      "|14/3/2020 0:00:00|     23|    12/3/2020 0:00:00|                          11|             BOGOTA|                    11001|          BOGOTA|  23|                 1|   M|  Relacionado|              Casa|  Leve|               NULL|                NULL|Recuperado|           8/3/2020 0:00:00|        NULL|   14/3/2020 0:00:00|    23/3/2020 0:00:00|                 PCR|                 6|                   NULL|\n",
      "|14/3/2020 0:00:00|     24|    12/3/2020 0:00:00|                          11|             BOGOTA|                    11001|          BOGOTA|  18|                 1|   F|    Importado|              Casa|  Leve|                724|              ESPAÑA|Recuperado|          12/3/2020 0:00:00|        NULL|   14/3/2020 0:00:00|    27/3/2020 0:00:00|                 PCR|                 6|                   NULL|\n",
      "|15/3/2020 0:00:00|     34|    13/3/2020 0:00:00|                          11|             BOGOTA|                    11001|          BOGOTA|  23|                 1|   F|    Importado|              Casa|  Leve|                724|              ESPAÑA|Recuperado|          11/3/2020 0:00:00|        NULL|   15/3/2020 0:00:00|    26/3/2020 0:00:00|                 PCR|                 6|                   NULL|\n",
      "|14/3/2020 0:00:00|     39|    13/3/2020 0:00:00|                          11|             BOGOTA|                    11001|          BOGOTA|  21|                 1|   M|    Importado|              Casa|  Leve|                724|              ESPAÑA|Recuperado|           7/3/2020 0:00:00|        NULL|   14/3/2020 0:00:00|    22/3/2020 0:00:00|                 PCR|                 6|                   NULL|\n",
      "|15/3/2020 0:00:00|     40|    14/3/2020 0:00:00|                          11|             BOGOTA|                    11001|          BOGOTA|  23|                 1|   F|    Importado|              Casa|  Leve|                724|              ESPAÑA|Recuperado|          13/3/2020 0:00:00|        NULL|   15/3/2020 0:00:00|    28/3/2020 0:00:00|                 PCR|                 6|                   NULL|\n",
      "|17/3/2020 0:00:00|     67|    14/3/2020 0:00:00|                          11|             BOGOTA|                    11001|          BOGOTA|  21|                 1|   M|    Importado|              Casa|  Leve|                724|              ESPAÑA|Recuperado|          10/3/2020 0:00:00|        NULL|   17/3/2020 0:00:00|    15/4/2020 0:00:00|                 PCR|                 6|                   NULL|\n",
      "|17/3/2020 0:00:00|     69|    17/3/2020 0:00:00|                          11|             BOGOTA|                    11001|          BOGOTA|  22|                 1|   F|    Importado|              Casa|  Leve|                840|ESTADOS UNIDOS DE...|Recuperado|          14/3/2020 0:00:00|        NULL|   17/3/2020 0:00:00|    29/3/2020 0:00:00|                 PCR|                 6|                   NULL|\n",
      "|17/3/2020 0:00:00|     74|    16/3/2020 0:00:00|                          11|             BOGOTA|                    11001|          BOGOTA|  18|                 1|   M|  Relacionado|              Casa|  Leve|               NULL|                NULL|Recuperado|          11/3/2020 0:00:00|        NULL|   17/3/2020 0:00:00|    12/4/2020 0:00:00|                 PCR|                 6|                   NULL|\n",
      "|20/3/2020 0:00:00|    161|    19/3/2020 0:00:00|                          11|             BOGOTA|                    11001|          BOGOTA|  22|                 1|   F|    Importado|              Casa|  Leve|                840|ESTADOS UNIDOS DE...|Recuperado|          12/3/2020 0:00:00|        NULL|   20/3/2020 0:00:00|    12/4/2020 0:00:00|                 PCR|                 6|                   NULL|\n",
      "|20/3/2020 0:00:00|    171|    20/3/2020 0:00:00|                          11|             BOGOTA|                    11001|          BOGOTA|  21|                 1|   F|  Relacionado|              Casa|  Leve|               NULL|                NULL|Recuperado|          19/3/2020 0:00:00|        NULL|   20/3/2020 0:00:00|    12/4/2020 0:00:00|                 PCR|                 6|                   NULL|\n",
      "|20/3/2020 0:00:00|    175|    20/3/2020 0:00:00|                          11|             BOGOTA|                    11001|          BOGOTA|  23|                 1|   F|    Importado|              Casa|  Leve|                724|              ESPAÑA|Recuperado|           7/3/2020 0:00:00|        NULL|   20/3/2020 0:00:00|    22/3/2020 0:00:00|                 PCR|                 6|                   NULL|\n",
      "|23/3/2020 0:00:00|    255|    21/3/2020 0:00:00|                          11|             BOGOTA|                    11001|          BOGOTA|  19|                 1|   F|    Importado|              Casa|  Leve|                840|ESTADOS UNIDOS DE...|Recuperado|          18/3/2020 0:00:00|        NULL|   23/3/2020 0:00:00|     6/4/2020 0:00:00|                 PCR|                 6|                   NULL|\n",
      "|23/3/2020 0:00:00|    308|    20/3/2020 0:00:00|                          11|             BOGOTA|                    11001|          BOGOTA|  21|                 1|   F|  Relacionado|              Casa|  Leve|               NULL|                NULL|Recuperado|          16/3/2020 0:00:00|        NULL|   23/3/2020 0:00:00|    18/5/2020 0:00:00|                 PCR|                 5|                   NULL|\n",
      "|23/3/2020 0:00:00|    312|    23/3/2020 0:00:00|                          11|             BOGOTA|                    11001|          BOGOTA|  18|                 1|   F|  Relacionado|              Casa|  Leve|               NULL|                NULL|Recuperado|          18/3/2020 0:00:00|        NULL|   23/3/2020 0:00:00|     2/4/2020 0:00:00|                 PCR|                 6|                   NULL|\n",
      "|24/3/2020 0:00:00|    379|    20/3/2020 0:00:00|                          11|             BOGOTA|                    11001|          BOGOTA|  23|                 1|   F|  Relacionado|              Casa|  Leve|               NULL|                NULL|Recuperado|          13/3/2020 0:00:00|        NULL|   24/3/2020 0:00:00|    31/5/2020 0:00:00|                 PCR|                 6|                   NULL|\n",
      "|24/3/2020 0:00:00|    399|    21/3/2020 0:00:00|                          11|             BOGOTA|                    11001|          BOGOTA|  21|                 1|   M|    Importado|              Casa|  Leve|                724|              ESPAÑA|Recuperado|          11/3/2020 0:00:00|        NULL|   24/3/2020 0:00:00|     3/4/2020 0:00:00|                 PCR|                 6|                   NULL|\n",
      "|24/3/2020 0:00:00|    403|    21/3/2020 0:00:00|                          11|             BOGOTA|                    11001|          BOGOTA|  21|                 1|   M|    Importado|              Casa|  Leve|                484|              MÉXICO|Recuperado|          20/3/2020 0:00:00|        NULL|   24/3/2020 0:00:00|     1/4/2020 0:00:00|                 PCR|                 6|                   NULL|\n",
      "|24/3/2020 0:00:00|    411|    21/3/2020 0:00:00|                          11|             BOGOTA|                    11001|          BOGOTA|  23|                 1|   F|    Importado|              Casa|  Leve|                484|              MÉXICO|Recuperado|          19/3/2020 0:00:00|        NULL|   24/3/2020 0:00:00|    31/5/2020 0:00:00|              Tiempo|                 6|                   NULL|\n",
      "+-----------------+-------+---------------------+----------------------------+-------------------+-------------------------+----------------+----+------------------+----+-------------+------------------+------+-------------------+--------------------+----------+---------------------------+------------+--------------------+---------------------+--------------------+------------------+-----------------------+\n",
      "only showing top 20 rows"
     ]
    }
   ],
   "source": [
    "df.filter((df['nombre_departamento'] =='BOGOTA') & (df['edad'] < 25)).show()\n"
   ]
  },
  {
   "cell_type": "code",
   "execution_count": 28,
   "id": "347d029b",
   "metadata": {},
   "outputs": [
    {
     "data": {
      "application/vnd.jupyter.widget-view+json": {
       "model_id": "",
       "version_major": 2,
       "version_minor": 0
      },
      "text/plain": [
       "FloatProgress(value=0.0, bar_style='info', description='Progress:', layout=Layout(height='25px', width='50%'),…"
      ]
     },
     "metadata": {},
     "output_type": "display_data"
    }
   ],
   "source": [
    "from pyspark.sql.functions import udf\n",
    "from pyspark.sql.types import StringType\n",
    "\n",
    "def clasificar_edad(edad):\n",
    "    if edad is None:\n",
    "        return \"Desconocido\"\n",
    "    elif edad > 18:\n",
    "        return \"Niño\"\n",
    "    elif 18 <= edad < 60:\n",
    "        return \"Adulto\"\n",
    "    else:\n",
    "        return \"Adulto Mayor\"\n",
    "\n",
    "clasificar_edad_udf = udf(clasificar_edad, StringType())"
   ]
  },
  {
   "cell_type": "code",
   "execution_count": 29,
   "id": "95033a4a",
   "metadata": {},
   "outputs": [
    {
     "data": {
      "application/vnd.jupyter.widget-view+json": {
       "model_id": "",
       "version_major": 2,
       "version_minor": 0
      },
      "text/plain": [
       "FloatProgress(value=0.0, bar_style='info', description='Progress:', layout=Layout(height='25px', width='50%'),…"
      ]
     },
     "metadata": {},
     "output_type": "display_data"
    },
    {
     "name": "stdout",
     "output_type": "stream",
     "text": [
      "+-----------------+-------+---------------------+----------------------------+-------------------+-------------------------+----------------+----+------------------+----+-------------+------------------+------+-------------------+--------------------+----------+---------------------------+------------+--------------------+---------------------+--------------------+------------------+-----------------------+--------------+\n",
      "|fecha_reporte_web|id_caso|Fecha de notificación|Código DIVIPOLA departamento|nombre_departamento|Código DIVIPOLA municipio|nombre_municipio|edad|unidad_medida_edad|sexo|tipo_contagio|Ubicación del caso|estado|Código ISO del país|     Nombre del país|recuperado|Fecha de inicio de síntomas|fecha_muerte|Fecha de diagnóstico|Fecha de recuperación|Tipo de recuperación|Pertenencia étnica|Nombre del grupo étnico|categoria_edad|\n",
      "+-----------------+-------+---------------------+----------------------------+-------------------+-------------------------+----------------+----+------------------+----+-------------+------------------+------+-------------------+--------------------+----------+---------------------------+------------+--------------------+---------------------+--------------------+------------------+-----------------------+--------------+\n",
      "| 6/3/2020 0:00:00|      1|     2/3/2020 0:00:00|                          11|             BOGOTA|                    11001|          BOGOTA|  19|                 1|   F|    Importado|              Casa|  Leve|                380|              ITALIA|Recuperado|          27/2/2020 0:00:00|        NULL|    6/3/2020 0:00:00|    13/3/2020 0:00:00|                 PCR|                 6|                   NULL|          Ni?o|\n",
      "| 9/3/2020 0:00:00|      2|     6/3/2020 0:00:00|                          76|              VALLE|                    76111|            BUGA|  34|                 1|   M|    Importado|              Casa|  Leve|                724|              ESPAÑA|Recuperado|           4/3/2020 0:00:00|        NULL|    9/3/2020 0:00:00|    19/3/2020 0:00:00|                 PCR|                 5|                   NULL|          Ni?o|\n",
      "| 9/3/2020 0:00:00|      3|     7/3/2020 0:00:00|                           5|          ANTIOQUIA|                     5001|        MEDELLIN|  50|                 1|   F|    Importado|              Casa|  Leve|                724|              ESPAÑA|Recuperado|          29/2/2020 0:00:00|        NULL|    9/3/2020 0:00:00|    15/3/2020 0:00:00|                 PCR|                 6|                   NULL|          Ni?o|\n",
      "|11/3/2020 0:00:00|      4|     9/3/2020 0:00:00|                           5|          ANTIOQUIA|                     5001|        MEDELLIN|  55|                 1|   M|  Relacionado|              Casa|  Leve|               NULL|                NULL|Recuperado|           6/3/2020 0:00:00|        NULL|   11/3/2020 0:00:00|    26/3/2020 0:00:00|                 PCR|                 6|                   NULL|          Ni?o|\n",
      "|11/3/2020 0:00:00|      5|     9/3/2020 0:00:00|                           5|          ANTIOQUIA|                     5001|        MEDELLIN|  25|                 1|   M|  Relacionado|              Casa|  Leve|               NULL|                NULL|Recuperado|           8/3/2020 0:00:00|        NULL|   11/3/2020 0:00:00|    23/3/2020 0:00:00|                 PCR|                 6|                   NULL|          Ni?o|\n",
      "|11/3/2020 0:00:00|      6|    10/3/2020 0:00:00|                           5|          ANTIOQUIA|                     5360|          ITAGUI|  27|                 1|   F|  Relacionado|              Casa|  Leve|               NULL|                NULL|Recuperado|           6/3/2020 0:00:00|        NULL|   11/3/2020 0:00:00|    26/3/2020 0:00:00|                 PCR|                 6|                   NULL|          Ni?o|\n",
      "|11/3/2020 0:00:00|      7|     8/3/2020 0:00:00|                       13001|          CARTAGENA|                    13001|       CARTAGENA|  85|                 1|   F|    Importado|              Casa|  Leve|                840|ESTADOS UNIDOS DE...|Recuperado|           2/3/2020 0:00:00|        NULL|   11/3/2020 0:00:00|    17/3/2020 0:00:00|                 PCR|                 6|                   NULL|          Ni?o|\n",
      "|11/3/2020 0:00:00|      8|     9/3/2020 0:00:00|                          11|             BOGOTA|                    11001|          BOGOTA|  22|                 1|   F|    Importado|              Casa|  Leve|                724|              ESPAÑA|Recuperado|           6/3/2020 0:00:00|        NULL|   11/3/2020 0:00:00|    21/3/2020 0:00:00|                 PCR|                 6|                   NULL|          Ni?o|\n",
      "|11/3/2020 0:00:00|      9|     8/3/2020 0:00:00|                          11|             BOGOTA|                    11001|          BOGOTA|  28|                 1|   F|    Importado|              Casa|  Leve|                724|              ESPAÑA|Recuperado|           7/3/2020 0:00:00|        NULL|   11/3/2020 0:00:00|    23/3/2020 0:00:00|                 PCR|                 6|                   NULL|          Ni?o|\n",
      "|12/3/2020 0:00:00|     10|    12/3/2020 0:00:00|                          11|             BOGOTA|                    11001|          BOGOTA|  36|                 1|   F|    Importado|              Casa|  Leve|                724|              ESPAÑA|Recuperado|           6/3/2020 0:00:00|        NULL|   12/3/2020 0:00:00|    21/3/2020 0:00:00|                 PCR|                 6|                   NULL|          Ni?o|\n",
      "|12/3/2020 0:00:00|     11|    11/3/2020 0:00:00|                          11|             BOGOTA|                    11001|          BOGOTA|  42|                 1|   F|    Importado|              Casa|  Leve|                724|              ESPAÑA|Recuperado|           6/3/2020 0:00:00|        NULL|   12/3/2020 0:00:00|    31/3/2020 0:00:00|                 PCR|                 6|                   NULL|          Ni?o|\n",
      "|12/3/2020 0:00:00|     12|    10/3/2020 0:00:00|                          41|              HUILA|                    41001|           NEIVA|  74|                 1|   F|    Importado|              Casa|  Leve|                380|              ITALIA|Recuperado|           6/3/2020 0:00:00|        NULL|   12/3/2020 0:00:00|     9/4/2020 0:00:00|                 PCR|                 6|                   NULL|          Ni?o|\n",
      "|12/3/2020 0:00:00|     13|    10/3/2020 0:00:00|                          41|              HUILA|                    41001|           NEIVA|  68|                 1|   F|  Relacionado|              Casa|  Leve|               NULL|                NULL|Recuperado|           6/3/2020 0:00:00|        NULL|   12/3/2020 0:00:00|    30/3/2020 0:00:00|                 PCR|                 6|                   NULL|          Ni?o|\n",
      "|13/3/2020 0:00:00|     14|    10/3/2020 0:00:00|                          76|              VALLE|                    76520|         PALMIRA|  48|                 1|   M|    Importado|              Casa|  Leve|                724|              ESPAÑA|Recuperado|           7/3/2020 0:00:00|        NULL|   13/3/2020 0:00:00|    21/3/2020 0:00:00|                 PCR|                 5|                   NULL|          Ni?o|\n",
      "|13/3/2020 0:00:00|     15|    13/3/2020 0:00:00|                          50|               META|                    50001|   VILLAVICENCIO|  30|                 1|   F|    Importado|              Casa|  Leve|                724|              ESPAÑA|Recuperado|           9/3/2020 0:00:00|        NULL|   13/3/2020 0:00:00|    23/3/2020 0:00:00|                 PCR|                 6|                   NULL|          Ni?o|\n",
      "|13/3/2020 0:00:00|     16|    11/3/2020 0:00:00|                          11|             BOGOTA|                    11001|          BOGOTA|  61|                 1|   F|    Importado|              Casa|  Leve|                380|              ITALIA|Recuperado|           8/3/2020 0:00:00|        NULL|   13/3/2020 0:00:00|    23/3/2020 0:00:00|                 PCR|                 5|                   NULL|          Ni?o|\n",
      "|14/3/2020 0:00:00|     17|    11/3/2020 0:00:00|                          11|             BOGOTA|                    11001|          BOGOTA|  73|                 1|   F|    Importado|              Casa|  Leve|                724|              ESPAÑA|Recuperado|          28/2/2020 0:00:00|        NULL|   14/3/2020 0:00:00|    14/3/2020 0:00:00|                 PCR|                 6|                   NULL|          Ni?o|\n",
      "|14/3/2020 0:00:00|     18|    11/3/2020 0:00:00|                          11|             BOGOTA|                    11001|          BOGOTA|  54|                 1|   M|    Importado|              Casa|  Leve|                724|              ESPAÑA|Recuperado|           7/3/2020 0:00:00|        NULL|   14/3/2020 0:00:00|     7/4/2020 0:00:00|              Tiempo|                 6|                   NULL|          Ni?o|\n",
      "|14/3/2020 0:00:00|     19|    12/3/2020 0:00:00|                          11|             BOGOTA|                    11001|          BOGOTA|  54|                 1|   F|  Relacionado|              Casa|  Leve|               NULL|                NULL|Recuperado|           9/3/2020 0:00:00|        NULL|   14/3/2020 0:00:00|    24/3/2020 0:00:00|                 PCR|                 6|                   NULL|          Ni?o|\n",
      "|14/3/2020 0:00:00|     20|    11/3/2020 0:00:00|                           5|          ANTIOQUIA|                     5001|        MEDELLIN|  26|                 1|   F|  Relacionado|              Casa|  Leve|               NULL|                NULL|Recuperado|           9/3/2020 0:00:00|        NULL|   14/3/2020 0:00:00|    24/3/2020 0:00:00|                 PCR|                 6|                   NULL|          Ni?o|\n",
      "+-----------------+-------+---------------------+----------------------------+-------------------+-------------------------+----------------+----+------------------+----+-------------+------------------+------+-------------------+--------------------+----------+---------------------------+------------+--------------------+---------------------+--------------------+------------------+-----------------------+--------------+\n",
      "only showing top 20 rows"
     ]
    }
   ],
   "source": [
    "df = df.withColumn(\"categoria_edad\", clasificar_edad_udf(df.edad))\n",
    "df.show()"
   ]
  },
  {
   "cell_type": "code",
   "execution_count": 30,
   "id": "6972d96f",
   "metadata": {},
   "outputs": [
    {
     "data": {
      "application/vnd.jupyter.widget-view+json": {
       "model_id": "",
       "version_major": 2,
       "version_minor": 0
      },
      "text/plain": [
       "FloatProgress(value=0.0, bar_style='info', description='Progress:', layout=Layout(height='25px', width='50%'),…"
      ]
     },
     "metadata": {},
     "output_type": "display_data"
    }
   ],
   "source": [
    "# A partir de aquí comienza el punto 3. Donde dejaremos de usar Drive y usaremos S3.\n",
    "from pyspark.sql.functions import col, desc, count\n",
    "\n",
    "df = spark.read.csv(\"s3a://mahoyosv1/covid19/Casos_positivos_de_COVID-19_en_Colombia-100K.csv\", header=True, inferSchema=True)\n",
    "df.createOrReplaceTempView(\"covid_data\")"
   ]
  },
  {
   "cell_type": "code",
   "execution_count": 31,
   "id": "ea5b2b98",
   "metadata": {},
   "outputs": [
    {
     "data": {
      "application/vnd.jupyter.widget-view+json": {
       "model_id": "",
       "version_major": 2,
       "version_minor": 0
      },
      "text/plain": [
       "FloatProgress(value=0.0, bar_style='info', description='Progress:', layout=Layout(height='25px', width='50%'),…"
      ]
     },
     "metadata": {},
     "output_type": "display_data"
    }
   ],
   "source": [
    "#3.1 Los 10 departamentos con más casos de covid en Colombia ordenados de mayor a menor."
   ]
  },
  {
   "cell_type": "code",
   "execution_count": 32,
   "id": "7ab24d72",
   "metadata": {},
   "outputs": [
    {
     "data": {
      "application/vnd.jupyter.widget-view+json": {
       "model_id": "",
       "version_major": 2,
       "version_minor": 0
      },
      "text/plain": [
       "FloatProgress(value=0.0, bar_style='info', description='Progress:', layout=Layout(height='25px', width='50%'),…"
      ]
     },
     "metadata": {},
     "output_type": "display_data"
    },
    {
     "name": "stdout",
     "output_type": "stream",
     "text": [
      "+-------------------+-----------+\n",
      "|Nombre departamento|total_casos|\n",
      "+-------------------+-----------+\n",
      "|             BOGOTA|      30016|\n",
      "|       BARRANQUILLA|      13065|\n",
      "|          ATLANTICO|      10994|\n",
      "|              VALLE|      10404|\n",
      "|          CARTAGENA|       8333|\n",
      "|          ANTIOQUIA|       4554|\n",
      "|             NARIÑO|       3520|\n",
      "|       CUNDINAMARCA|       2827|\n",
      "|           AMAZONAS|       2317|\n",
      "|              CHOCO|       1636|\n",
      "+-------------------+-----------+"
     ]
    }
   ],
   "source": [
    "# DataFrames\n",
    "top_departments_df = df.groupBy(\"Nombre departamento\") \\\n",
    "    .agg(count(\"ID de caso\").alias(\"total_casos\")) \\\n",
    "    .orderBy(desc(\"total_casos\")) \\\n",
    "    .limit(10)\n",
    "top_departments_df.show()"
   ]
  },
  {
   "cell_type": "code",
   "execution_count": 33,
   "id": "864a7bf5",
   "metadata": {},
   "outputs": [
    {
     "data": {
      "application/vnd.jupyter.widget-view+json": {
       "model_id": "",
       "version_major": 2,
       "version_minor": 0
      },
      "text/plain": [
       "FloatProgress(value=0.0, bar_style='info', description='Progress:', layout=Layout(height='25px', width='50%'),…"
      ]
     },
     "metadata": {},
     "output_type": "display_data"
    },
    {
     "name": "stdout",
     "output_type": "stream",
     "text": [
      "+-------------------+-----------+\n",
      "|Nombre departamento|total_casos|\n",
      "+-------------------+-----------+\n",
      "|             BOGOTA|      30016|\n",
      "|       BARRANQUILLA|      13065|\n",
      "|          ATLANTICO|      10994|\n",
      "|              VALLE|      10404|\n",
      "|          CARTAGENA|       8333|\n",
      "|          ANTIOQUIA|       4554|\n",
      "|             NARIÑO|       3520|\n",
      "|       CUNDINAMARCA|       2827|\n",
      "|           AMAZONAS|       2317|\n",
      "|              CHOCO|       1636|\n",
      "+-------------------+-----------+"
     ]
    }
   ],
   "source": [
    "spark.sql(\"\"\"\n",
    "    SELECT `Nombre departamento`, COUNT(`ID de caso`) AS total_casos\n",
    "    FROM `covid_data`\n",
    "    GROUP BY `Nombre departamento`\n",
    "    ORDER BY total_casos DESC\n",
    "    LIMIT 10\n",
    "\"\"\").show()"
   ]
  },
  {
   "cell_type": "code",
   "execution_count": 34,
   "id": "562305fe",
   "metadata": {},
   "outputs": [
    {
     "data": {
      "application/vnd.jupyter.widget-view+json": {
       "model_id": "",
       "version_major": 2,
       "version_minor": 0
      },
      "text/plain": [
       "FloatProgress(value=0.0, bar_style='info', description='Progress:', layout=Layout(height='25px', width='50%'),…"
      ]
     },
     "metadata": {},
     "output_type": "display_data"
    }
   ],
   "source": [
    "#  3.2 Las 10 ciudades con más casos de covid en Colombia ordenados de mayor a menor.\n"
   ]
  },
  {
   "cell_type": "code",
   "execution_count": 35,
   "id": "1d881608",
   "metadata": {},
   "outputs": [
    {
     "data": {
      "application/vnd.jupyter.widget-view+json": {
       "model_id": "",
       "version_major": 2,
       "version_minor": 0
      },
      "text/plain": [
       "FloatProgress(value=0.0, bar_style='info', description='Progress:', layout=Layout(height='25px', width='50%'),…"
      ]
     },
     "metadata": {},
     "output_type": "display_data"
    },
    {
     "name": "stdout",
     "output_type": "stream",
     "text": [
      "+----------------+-----------+\n",
      "|Nombre municipio|total_casos|\n",
      "+----------------+-----------+\n",
      "|          BOGOTA|      30016|\n",
      "|    BARRANQUILLA|      13065|\n",
      "|       CARTAGENA|       8333|\n",
      "|            CALI|       7747|\n",
      "|         SOLEDAD|       6233|\n",
      "|         LETICIA|       2194|\n",
      "|        MEDELLIN|       2137|\n",
      "|          TUMACO|       1501|\n",
      "|    BUENAVENTURA|       1453|\n",
      "|          QUIBDO|       1367|\n",
      "+----------------+-----------+"
     ]
    }
   ],
   "source": [
    "# DataFrame\n",
    "top_cities_df = df.groupBy(\"Nombre municipio\") \\\n",
    "    .agg(count(\"ID de caso\").alias(\"total_casos\")) \\\n",
    "    .orderBy(desc(\"total_casos\")) \\\n",
    "    .limit(10)\n",
    "top_cities_df.show()"
   ]
  },
  {
   "cell_type": "code",
   "execution_count": 36,
   "id": "23c24564",
   "metadata": {},
   "outputs": [
    {
     "data": {
      "application/vnd.jupyter.widget-view+json": {
       "model_id": "",
       "version_major": 2,
       "version_minor": 0
      },
      "text/plain": [
       "FloatProgress(value=0.0, bar_style='info', description='Progress:', layout=Layout(height='25px', width='50%'),…"
      ]
     },
     "metadata": {},
     "output_type": "display_data"
    },
    {
     "name": "stdout",
     "output_type": "stream",
     "text": [
      "+----------------+-----------+\n",
      "|Nombre municipio|total_casos|\n",
      "+----------------+-----------+\n",
      "|          BOGOTA|      30016|\n",
      "|    BARRANQUILLA|      13065|\n",
      "|       CARTAGENA|       8333|\n",
      "|            CALI|       7747|\n",
      "|         SOLEDAD|       6233|\n",
      "|         LETICIA|       2194|\n",
      "|        MEDELLIN|       2137|\n",
      "|          TUMACO|       1501|\n",
      "|    BUENAVENTURA|       1453|\n",
      "|          QUIBDO|       1367|\n",
      "+----------------+-----------+"
     ]
    }
   ],
   "source": [
    "spark.sql(\"\"\"\n",
    "    SELECT `Nombre municipio`, COUNT(`ID de caso`) AS total_casos\n",
    "    FROM covid_data\n",
    "    GROUP BY `Nombre municipio`\n",
    "    ORDER BY total_casos DESC\n",
    "    LIMIT 10\n",
    "\"\"\").show()"
   ]
  },
  {
   "cell_type": "code",
   "execution_count": 37,
   "id": "8b28d433",
   "metadata": {},
   "outputs": [
    {
     "data": {
      "application/vnd.jupyter.widget-view+json": {
       "model_id": "",
       "version_major": 2,
       "version_minor": 0
      },
      "text/plain": [
       "FloatProgress(value=0.0, bar_style='info', description='Progress:', layout=Layout(height='25px', width='50%'),…"
      ]
     },
     "metadata": {},
     "output_type": "display_data"
    }
   ],
   "source": [
    "#   3.3 Los 10 días con más casos de covid en Colombia ordenados de mayor a menor.\n"
   ]
  },
  {
   "cell_type": "code",
   "execution_count": 38,
   "id": "507ecf20",
   "metadata": {},
   "outputs": [
    {
     "data": {
      "application/vnd.jupyter.widget-view+json": {
       "model_id": "",
       "version_major": 2,
       "version_minor": 0
      },
      "text/plain": [
       "FloatProgress(value=0.0, bar_style='info', description='Progress:', layout=Layout(height='25px', width='50%'),…"
      ]
     },
     "metadata": {},
     "output_type": "display_data"
    },
    {
     "name": "stdout",
     "output_type": "stream",
     "text": [
      "+-----------------+-----------+\n",
      "|fecha reporte web|total_casos|\n",
      "+-----------------+-----------+\n",
      "|27/6/2020 0:00:00|       4149|\n",
      "|26/6/2020 0:00:00|       3843|\n",
      "|24/6/2020 0:00:00|       3541|\n",
      "|25/6/2020 0:00:00|       3486|\n",
      "|29/6/2020 0:00:00|       3274|\n",
      "|28/6/2020 0:00:00|       3178|\n",
      "|18/6/2020 0:00:00|       3171|\n",
      "|19/6/2020 0:00:00|       3059|\n",
      "|21/6/2020 0:00:00|       3019|\n",
      "|30/6/2020 0:00:00|       2803|\n",
      "+-----------------+-----------+"
     ]
    }
   ],
   "source": [
    "# DataFrames\n",
    "top_days_df = df.groupBy(\"fecha reporte web\") \\\n",
    "    .agg(count(\"ID de caso\").alias(\"total_casos\")) \\\n",
    "    .orderBy(desc(\"total_casos\")) \\\n",
    "    .limit(10)\n",
    "top_days_df.show()"
   ]
  },
  {
   "cell_type": "code",
   "execution_count": 39,
   "id": "26bd0355",
   "metadata": {},
   "outputs": [
    {
     "data": {
      "application/vnd.jupyter.widget-view+json": {
       "model_id": "",
       "version_major": 2,
       "version_minor": 0
      },
      "text/plain": [
       "FloatProgress(value=0.0, bar_style='info', description='Progress:', layout=Layout(height='25px', width='50%'),…"
      ]
     },
     "metadata": {},
     "output_type": "display_data"
    },
    {
     "name": "stdout",
     "output_type": "stream",
     "text": [
      "+-----------------+-----------+\n",
      "|fecha reporte web|total_casos|\n",
      "+-----------------+-----------+\n",
      "|27/6/2020 0:00:00|       4149|\n",
      "|26/6/2020 0:00:00|       3843|\n",
      "|24/6/2020 0:00:00|       3541|\n",
      "|25/6/2020 0:00:00|       3486|\n",
      "|29/6/2020 0:00:00|       3274|\n",
      "|28/6/2020 0:00:00|       3178|\n",
      "|18/6/2020 0:00:00|       3171|\n",
      "|19/6/2020 0:00:00|       3059|\n",
      "|21/6/2020 0:00:00|       3019|\n",
      "|30/6/2020 0:00:00|       2803|\n",
      "+-----------------+-----------+"
     ]
    }
   ],
   "source": [
    "spark.sql(\"\"\"\n",
    "    SELECT `fecha reporte web`, COUNT(`ID de caso`) AS total_casos\n",
    "    FROM covid_data\n",
    "    GROUP BY `fecha reporte web`\n",
    "    ORDER BY total_casos DESC\n",
    "    LIMIT 10\n",
    "\"\"\").show()"
   ]
  },
  {
   "cell_type": "code",
   "execution_count": 40,
   "id": "cc7e5eae",
   "metadata": {},
   "outputs": [
    {
     "data": {
      "application/vnd.jupyter.widget-view+json": {
       "model_id": "",
       "version_major": 2,
       "version_minor": 0
      },
      "text/plain": [
       "FloatProgress(value=0.0, bar_style='info', description='Progress:', layout=Layout(height='25px', width='50%'),…"
      ]
     },
     "metadata": {},
     "output_type": "display_data"
    }
   ],
   "source": [
    "#3.4 Distribución de casos por edades de covid en Colombia."
   ]
  },
  {
   "cell_type": "code",
   "execution_count": 41,
   "id": "f74d2db7",
   "metadata": {},
   "outputs": [
    {
     "data": {
      "application/vnd.jupyter.widget-view+json": {
       "model_id": "",
       "version_major": 2,
       "version_minor": 0
      },
      "text/plain": [
       "FloatProgress(value=0.0, bar_style='info', description='Progress:', layout=Layout(height='25px', width='50%'),…"
      ]
     },
     "metadata": {},
     "output_type": "display_data"
    },
    {
     "name": "stdout",
     "output_type": "stream",
     "text": [
      "+----+-----------+\n",
      "|edad|total_casos|\n",
      "+----+-----------+\n",
      "|   1|        485|\n",
      "|   2|        440|\n",
      "|   3|        449|\n",
      "|   4|        373|\n",
      "|   5|        425|\n",
      "|   6|        431|\n",
      "|   7|        442|\n",
      "|   8|        461|\n",
      "|   9|        467|\n",
      "|  10|        530|\n",
      "|  11|        566|\n",
      "|  12|        562|\n",
      "|  13|        531|\n",
      "|  14|        580|\n",
      "|  15|        560|\n",
      "|  16|        600|\n",
      "|  17|        685|\n",
      "|  18|       1160|\n",
      "|  19|       1567|\n",
      "|  20|       1674|\n",
      "+----+-----------+\n",
      "only showing top 20 rows"
     ]
    }
   ],
   "source": [
    "#Dataframes\n",
    "age_distribution_df = df.groupBy(\"edad\") \\\n",
    "    .agg(count(\"ID de caso\").alias(\"total_casos\")) \\\n",
    "    .orderBy(\"edad\")\n",
    "age_distribution_df.show()"
   ]
  },
  {
   "cell_type": "code",
   "execution_count": 42,
   "id": "e28d92f7",
   "metadata": {},
   "outputs": [
    {
     "data": {
      "application/vnd.jupyter.widget-view+json": {
       "model_id": "",
       "version_major": 2,
       "version_minor": 0
      },
      "text/plain": [
       "FloatProgress(value=0.0, bar_style='info', description='Progress:', layout=Layout(height='25px', width='50%'),…"
      ]
     },
     "metadata": {},
     "output_type": "display_data"
    },
    {
     "name": "stdout",
     "output_type": "stream",
     "text": [
      "+----+-----------+\n",
      "|edad|total_casos|\n",
      "+----+-----------+\n",
      "|   1|        485|\n",
      "|   2|        440|\n",
      "|   3|        449|\n",
      "|   4|        373|\n",
      "|   5|        425|\n",
      "|   6|        431|\n",
      "|   7|        442|\n",
      "|   8|        461|\n",
      "|   9|        467|\n",
      "|  10|        530|\n",
      "|  11|        566|\n",
      "|  12|        562|\n",
      "|  13|        531|\n",
      "|  14|        580|\n",
      "|  15|        560|\n",
      "|  16|        600|\n",
      "|  17|        685|\n",
      "|  18|       1160|\n",
      "|  19|       1567|\n",
      "|  20|       1674|\n",
      "+----+-----------+\n",
      "only showing top 20 rows"
     ]
    }
   ],
   "source": [
    "spark.sql(\"\"\"\n",
    "    SELECT edad, COUNT(`ID de caso`) AS total_casos\n",
    "    FROM covid_data\n",
    "    GROUP BY edad\n",
    "    ORDER BY edad\n",
    "\"\"\").show()"
   ]
  },
  {
   "cell_type": "code",
   "execution_count": 43,
   "id": "12f31e4a",
   "metadata": {},
   "outputs": [
    {
     "data": {
      "application/vnd.jupyter.widget-view+json": {
       "model_id": "",
       "version_major": 2,
       "version_minor": 0
      },
      "text/plain": [
       "FloatProgress(value=0.0, bar_style='info', description='Progress:', layout=Layout(height='25px', width='50%'),…"
      ]
     },
     "metadata": {},
     "output_type": "display_data"
    }
   ],
   "source": [
    "# 3.5 ¿Cual es el porcentaje de hombres y de mujeres infectados por covid respectivamente?"
   ]
  },
  {
   "cell_type": "code",
   "execution_count": 44,
   "id": "e68de721",
   "metadata": {},
   "outputs": [
    {
     "data": {
      "application/vnd.jupyter.widget-view+json": {
       "model_id": "",
       "version_major": 2,
       "version_minor": 0
      },
      "text/plain": [
       "FloatProgress(value=0.0, bar_style='info', description='Progress:', layout=Layout(height='25px', width='50%'),…"
      ]
     },
     "metadata": {},
     "output_type": "display_data"
    },
    {
     "name": "stdout",
     "output_type": "stream",
     "text": [
      "+----+-----------+----------+\n",
      "|sexo|total_casos|porcentaje|\n",
      "+----+-----------+----------+\n",
      "|   M|      54098|      54.1|\n",
      "|   F|      45902|      45.9|\n",
      "+----+-----------+----------+"
     ]
    }
   ],
   "source": [
    "from pyspark.sql.functions import round\n",
    "\n",
    "total_cases = df.count()\n",
    "\n",
    "gender_distribution_df = df.groupBy(\"sexo\") \\\n",
    "    .agg(count(\"ID de caso\").alias(\"total_casos\")) \\\n",
    "    .withColumn(\"porcentaje\", round((col(\"total_casos\") / total_cases) * 100, 2)) \\\n",
    "    .orderBy(desc(\"total_casos\"))\n",
    "\n",
    "gender_distribution_df.show()"
   ]
  },
  {
   "cell_type": "code",
   "execution_count": 45,
   "id": "3cf675e7",
   "metadata": {},
   "outputs": [
    {
     "data": {
      "application/vnd.jupyter.widget-view+json": {
       "model_id": "",
       "version_major": 2,
       "version_minor": 0
      },
      "text/plain": [
       "FloatProgress(value=0.0, bar_style='info', description='Progress:', layout=Layout(height='25px', width='50%'),…"
      ]
     },
     "metadata": {},
     "output_type": "display_data"
    },
    {
     "name": "stdout",
     "output_type": "stream",
     "text": [
      "+----+-----------+----------+\n",
      "|sexo|total_casos|porcentaje|\n",
      "+----+-----------+----------+\n",
      "|   M|      54098|      54.1|\n",
      "|   F|      45902|      45.9|\n",
      "+----+-----------+----------+"
     ]
    }
   ],
   "source": [
    "spark.sql(\"\"\"\n",
    "    SELECT sexo,\n",
    "           COUNT(`ID de caso`) AS total_casos,\n",
    "           ROUND((COUNT(`ID de caso`) / (SELECT COUNT(*) FROM covid_data)) * 100, 2) AS porcentaje\n",
    "    FROM covid_data\n",
    "    GROUP BY sexo\n",
    "    ORDER BY total_casos DESC\n",
    "\"\"\").show()"
   ]
  },
  {
   "cell_type": "code",
   "execution_count": 47,
   "id": "8d8ff151",
   "metadata": {},
   "outputs": [
    {
     "data": {
      "application/vnd.jupyter.widget-view+json": {
       "model_id": "",
       "version_major": 2,
       "version_minor": 0
      },
      "text/plain": [
       "FloatProgress(value=0.0, bar_style='info', description='Progress:', layout=Layout(height='25px', width='50%'),…"
      ]
     },
     "metadata": {},
     "output_type": "display_data"
    }
   ],
   "source": [
    "#Proceso para guardar las preguntas de negocio en el bucket tomando como ejemplo la ultima\n",
    "\n",
    "bucket_location='s3a://mahoyosv1/data_covid_processed/'\n",
    "gender_distribution_df.write \\\n",
    "    .format(\"parquet\") \\\n",
    "    .mode(\"overwrite\") \\\n",
    "    .save(bucket_location + \"gender_distribution\")"
   ]
  },
  {
   "cell_type": "code",
   "execution_count": 48,
   "id": "0863a636",
   "metadata": {},
   "outputs": [
    {
     "data": {
      "application/vnd.jupyter.widget-view+json": {
       "model_id": "",
       "version_major": 2,
       "version_minor": 0
      },
      "text/plain": [
       "FloatProgress(value=0.0, bar_style='info', description='Progress:', layout=Layout(height='25px', width='50%'),…"
      ]
     },
     "metadata": {},
     "output_type": "display_data"
    }
   ],
   "source": [
    "#Resto de resultados\n",
    "age_distribution_df.write \\\n",
    "    .format(\"parquet\") \\\n",
    "    .mode(\"overwrite\") \\\n",
    "    .save(bucket_location + \"age_distribution\")\n",
    "top_days_df.write \\\n",
    "    .format(\"parquet\") \\\n",
    "    .mode(\"overwrite\") \\\n",
    "    .save(bucket_location + \"top_days\")\n",
    "top_cities_df.write \\\n",
    "    .format(\"parquet\") \\\n",
    "    .mode(\"overwrite\") \\\n",
    "    .save(bucket_location + \"top_cities\")\n",
    "top_departments_df.write \\\n",
    "    .format(\"parquet\") \\\n",
    "    .mode(\"overwrite\") \\\n",
    "    .save(bucket_location + \"top_departments\")"
   ]
  },
  {
   "cell_type": "code",
   "execution_count": null,
   "id": "d3c11809",
   "metadata": {},
   "outputs": [],
   "source": []
  }
 ],
 "metadata": {
  "kernelspec": {
   "display_name": "PySpark",
   "language": "python",
   "name": "pysparkkernel"
  },
  "language_info": {
   "codemirror_mode": {
    "name": "python",
    "version": 3
   },
   "file_extension": ".py",
   "mimetype": "text/x-python",
   "name": "pyspark",
   "pygments_lexer": "python3"
  }
 },
 "nbformat": 4,
 "nbformat_minor": 5
}
